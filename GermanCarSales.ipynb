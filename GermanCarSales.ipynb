{
 "cells": [
  {
   "cell_type": "markdown",
   "metadata": {
    "slideshow": {
     "slide_type": "slide"
    }
   },
   "source": [
    "# German Ebay Car Sales 2016\n",
    "\n",
    "The Data-Set contains offerings of used cars in germany (20 attributes, 371528 examples). These cars where submitted to the website 'ebay Kleinanzeigen' and have been crawled between 2016-03-05 and 2016-04-07.\n",
    "\n",
    "The dataset can be found here:\n",
    "https://www.kaggle.com/orgesleka/used-cars-database"
   ]
  },
  {
   "cell_type": "markdown",
   "metadata": {},
   "source": [
    "### Importing a crap tone of libraries"
   ]
  },
  {
   "cell_type": "markdown",
   "metadata": {},
   "source": [
    "If you are running this for the first time, you will need to install alot of applications for the libraries that follow. You can run this in your python console, be wary that some may take a while."
   ]
  },
  {
   "cell_type": "code",
   "execution_count": null,
   "metadata": {},
   "outputs": [],
   "source": [
    "pip install wheel\n",
    "pip install squarify\n",
    "pip install pygal\n",
    "pip install pywaffle\n",
    "pip install pipwin\n",
    "pip install plotly\n",
    "pipwin install numpy\n",
    "pipwin install pandas\n",
    "pipwin install shapely\n",
    "pipwin install gdal\n",
    "pipwin install fiona\n",
    "pipwin install pyproj\n",
    "pipwin install six\n",
    "pipwin install rtree\n",
    "pipwin install descartes\n",
    "pipwin install geopandas"
   ]
  },
  {
   "cell_type": "code",
   "execution_count": 170,
   "metadata": {
    "slideshow": {
     "slide_type": "-"
    }
   },
   "outputs": [],
   "source": [
    "import matplotlib\n",
    "import matplotlib.pyplot as plt\n",
    "import numpy as np\n",
    "import pandas as pd\n",
    "import os\n",
    "import seaborn as sns\n",
    "from sklearn import preprocessing\n",
    "import squarify\n",
    "import geopandas as gp\n",
    "import shapely\n",
    "import fiona\n",
    "import pygal\n",
    "from pywaffle import Waffle\n",
    "import plotly.express as px\n",
    "\n",
    "%matplotlib inline\n",
    "plt.rcParams['figure.figsize'] = (20, 10)\n",
    "saved_style_state = matplotlib.rcParams.copy()\n"
   ]
  },
  {
   "cell_type": "markdown",
   "metadata": {
    "slideshow": {
     "slide_type": "slide"
    }
   },
   "source": [
    "### Getting the Files\n",
    "This is just a small code to pull up the csv file. It will print \"File not found!\" if the file isnt found in the OpenDataProject Directory\n"
   ]
  },
  {
   "cell_type": "code",
   "execution_count": 171,
   "metadata": {
    "slideshow": {
     "slide_type": "fragment"
    },
    "tags": []
   },
   "outputs": [
    {
     "output_type": "stream",
     "name": "stdout",
     "text": "Successfully Loaded Car CSV\nSuccessfully Loaded Map Shape File\n"
    }
   ],
   "source": [
    "#Getting the Car data File\n",
    "filepath = \"autos.csv\"\n",
    "cardata= pd.read_csv(filepath)\n",
    "print(\"Successfully Loaded Car CSV\")\n",
    "\n",
    "#Getting the Map Files\n",
    "shp_file_name = \"plz-gebiete.shp\"\n",
    "germanburbs = gp.GeoDataFrame.from_file(shp_file_name)\n",
    "print(\"Successfully Loaded Map Shape File\")"
   ]
  },
  {
   "cell_type": "markdown",
   "metadata": {},
   "source": [
    "Here is a view of the dataset. It was created using a webscraper on ebay germany. I found an explanation of the columns online as there was a couple weird entries in german, and odd coulumns including 'abtest'\n",
    "\n",
    "- dateCrawled         : when advert was first crawled, all field-values are taken from this date \\n\n",
    "- name                : headline, which the owner of the car gave to the advert \\n\n",
    "- seller              : 'privat'(ger)/'private'(en) or 'gewerblich'(ger)/'dealer'(en) \\n\n",
    "- offerType           : 'Angebot'(ger)/'offer'(en) or 'Gesuch'(ger)/'request'(en)\n",
    "- price               : the price on the advert to sell the car\n",
    "- abtest              : ebay-intern variable (argumentation in discussion-section)\n",
    "- vehicleType         : one of eight vehicle-categories \n",
    "- yearOfRegistration  : at which year the car was first registered\n",
    "- gearbox             : 'manuell'(ger)/'manual'(en) or 'automatik'(ger)/'automatic'(en)\n",
    "- powerPS             : the power of the car in PS\n",
    "- model               : the cars model\n",
    "- kilometer           : how many kilometres the car has driven\n",
    "- monthOfRegistration : at which month the car was first registered\n",
    "- fuelType            : one of seven fuel-categories\n",
    "- brand               : the cars brand\n",
    "- notRepairedDamage   : if the car has a damage which is not repaired yet\n",
    "- dateCreated         : the date for which the advert at 'ebay Kleinanzeigen' was created\n",
    "- nrOfPictures        : number of pictures in the advert\n",
    "- postalCode          : where in germany the car is located\n",
    "- lastSeenOnline      : when the crawler saw this advert last online\n",
    "\n"
   ]
  },
  {
   "cell_type": "code",
   "execution_count": null,
   "metadata": {
    "slideshow": {
     "slide_type": "slide"
    }
   },
   "outputs": [],
   "source": [
    "cardata.head(10)"
   ]
  },
  {
   "cell_type": "raw",
   "metadata": {},
   "source": [
    "#Explanation Of Columns I found online\n",
    "\n",
    "dateCrawled         : when advert was first crawled, all field-values are taken from this date\n",
    "name                : headline, which the owner of the car gave to the advert\n",
    "seller              : 'privat'(ger)/'private'(en) or 'gewerblich'(ger)/'dealer'(en)\n",
    "offerType           : 'Angebot'(ger)/'offer'(en) or 'Gesuch'(ger)/'request'(en)\n",
    "price               : the price on the advert to sell the car\n",
    "\n",
    "abtest              : ebay-intern variable (argumentation in discussion-section)\n",
    "vehicleType         : one of eight vehicle-categories \n",
    "yearOfRegistration  : at which year the car was first registered\n",
    "gearbox             : 'manuell'(ger)/'manual'(en) or 'automatik'(ger)/'automatic'(en)\n",
    "powerPS             : the power of the car in PS\n",
    "\n",
    "model               : the cars model\n",
    "kilometer           : how many kilometres the car has driven\n",
    "monthOfRegistration : at which month the car was first registered\n",
    "fuelType            : one of seven fuel-categories\n",
    "brand               : the cars brand\n",
    "\n",
    "notRepairedDamage   : if the car has a damage which is not repaired yet\n",
    "dateCreated         : the date for which the advert at 'ebay Kleinanzeigen' was created\n",
    "nrOfPictures        : number of pictures in the advert\n",
    "postalCode          : where in germany the car is located\n",
    "lastSeenOnline      : when the crawler saw this advert last online"
   ]
  },
  {
   "cell_type": "markdown",
   "metadata": {},
   "source": [
    "## Simple Car Sales Comparisons\n",
    "\n",
    "Below are some initial data analysis from simple characteristics provided in the german car data csv"
   ]
  },
  {
   "cell_type": "code",
   "execution_count": null,
   "metadata": {
    "tags": []
   },
   "outputs": [],
   "source": [
    "df = cardata[\"gearbox\"]\n",
    "\n",
    "man_num = df.str.count(\"manuell\").sum()\n",
    "aut_num = df.str.count(\"automatik\").sum()\n",
    "\n",
    "pie1 = pd.DataFrame({'Car Gearbox Types': [int(man_num), int(aut_num)]},\n",
    "                  index=['Automatic Cars', 'Manual Cars'])\n",
    "plot = pie1.plot.pie(y='Car Gearbox Types', figsize=(5, 5))\n",
    "plt.title(\"Car Gearbox Types\", fontsize=20)"
   ]
  },
  {
   "cell_type": "code",
   "execution_count": null,
   "metadata": {},
   "outputs": [],
   "source": [
    "df = cardata[\"fuelType\"]\n",
    "\n",
    "diesel_num = df.str.count(\"diesel\").sum()\n",
    "petrol_num = df.str.count(\"benzin\").sum()\n",
    "\n",
    "\n",
    "pie1 = pd.DataFrame({'Car Fuel Types': [int(diesel_num), int(petrol_num)]},\n",
    "                  index=['Diesel Cars', 'Petrol Cars'])\n",
    "plot = pie1.plot.pie(y='Car Fuel Types', figsize=(5, 5))\n",
    "plt.title(\"Car Fuel Type\", fontsize=20)"
   ]
  },
  {
   "cell_type": "code",
   "execution_count": null,
   "metadata": {
    "slideshow": {
     "slide_type": "slide"
    },
    "tags": []
   },
   "outputs": [],
   "source": [
    "cardata[\"yearOfRegistration\"][cardata[\"yearOfRegistration\"] >1990 ][cardata[\"yearOfRegistration\"] < 2020].hist()\n",
    "\n",
    "plt.xticks(fontsize=10, rotation='90')\n",
    "plt.title(\"Car Manufacture Year\", fontsize=20)\n",
    "plt.xlabel('\\n Year of Manufacture', fontsize=15)\n",
    "plt.ylabel('Quantity of Cars', fontsize=15, rotation='vertical', ha='right')\n",
    "\n"
   ]
  },
  {
   "cell_type": "code",
   "execution_count": null,
   "metadata": {},
   "outputs": [],
   "source": [
    "cardata[\"price\"][cardata[\"price\"] <30000 ].hist()\n",
    "\n",
    "plt.xticks(fontsize=10, rotation='90')\n",
    "plt.title(\"Car Prices\", fontsize=20 )\n",
    "plt.xlabel('\\n Price', fontsize=15 )\n",
    "plt.ylabel('Quantity of Cars', fontsize=15, rotation='vertical', ha='right')"
   ]
  },
  {
   "cell_type": "code",
   "execution_count": null,
   "metadata": {
    "slideshow": {
     "slide_type": "fragment"
    }
   },
   "outputs": [],
   "source": [
    "cardata[\"vehicleType\"].value_counts().plot(kind=\"bar\")\n",
    "\n",
    "plt.xticks(fontsize=10, rotation='90')\n",
    "plt.title(\"Car Types\", fontsize=20 )\n",
    "plt.xlabel('\\n Car Types in German', fontsize=15 )\n",
    "plt.ylabel('Quantity of Cars', fontsize=15, rotation='vertical', ha='right')"
   ]
  },
  {
   "cell_type": "code",
   "execution_count": null,
   "metadata": {},
   "outputs": [],
   "source": [
    "cardata[\"model\"].value_counts().plot(kind=\"bar\")\n",
    "\n",
    "plt.xticks(fontsize=10, rotation='90')\n",
    "plt.title(\"Car Model Frequency\", fontsize=20 )\n",
    "plt.xlabel('\\n Models', fontsize=15 )\n",
    "plt.ylabel('Quantity of Cars', fontsize=15, rotation='vertical', ha='right')"
   ]
  },
  {
   "cell_type": "code",
   "execution_count": null,
   "metadata": {},
   "outputs": [],
   "source": [
    "cardata[\"powerPS\"][cardata[\"powerPS\"] <400 ].hist()\n",
    "\n",
    "plt.xticks(fontsize=10, rotation='90')\n",
    "plt.title(\"Car Power\", fontsize=20 )\n",
    "plt.xlabel('\\n Car Horsepower', fontsize=15)\n",
    "plt.ylabel('Quantity of Cars', fontsize=15, rotation='vertical', ha='right')"
   ]
  },
  {
   "cell_type": "code",
   "execution_count": null,
   "metadata": {
    "slideshow": {
     "slide_type": "-"
    }
   },
   "outputs": [],
   "source": [
    "cardata[\"brand\"].value_counts().plot(kind=\"bar\")\n",
    "\n",
    "plt.xticks(fontsize=10, rotation='90')\n",
    "plt.title(\"Car Manufactures\", fontsize=20 )\n",
    "plt.xlabel('\\n Manufacturer', fontsize=15)\n",
    "plt.ylabel('Quantity of Cars', fontsize=15, rotation='vertical', ha='right')"
   ]
  },
  {
   "cell_type": "code",
   "execution_count": null,
   "metadata": {},
   "outputs": [],
   "source": [
    "data = dict(zip(parent_companies, parent_count))\n",
    "fig = plt.figure(FigureClass=Waffle,\n",
    "                 figsize=(18,8),\n",
    "                 rows=15,\n",
    "                 columns=25,\n",
    "                 values=parent_count,\n",
    "                 title={'label': 'Car Types',\n",
    "                        'loc': 'left',\n",
    "                        'fontdict': {'fontsize': 20}},\n",
    "                 labels=[\"{} ({:,})\".format(k, v) for k, v in data.items()],\n",
    "                 legend={'loc': 'lower left',\n",
    "                         'bbox_to_anchor': (0, -0.4),\n",
    "                         'ncol': 6,\n",
    "                         'framealpha': 0,\n",
    "                         'fontsize': 12})"
   ]
  },
  {
   "cell_type": "markdown",
   "metadata": {},
   "source": [
    "## Car Brand Analysis\n",
    "\n",
    "I found the car brands particularly interesting so in this section i filteres the brand data from the original csv and created a new dataset, and made some interesting graphs and comparisons"
   ]
  },
  {
   "cell_type": "markdown",
   "metadata": {},
   "source": [
    "I am going to make a graph of car sales on mannufactures parent companies. Below is a list of car brands and their corresponding parent companies\n",
    "\n",
    "- toyota : palexus, daihatsu, toyota\n",
    "- general motors : chevrolet, buic, cadillac, holden, hsv\n",
    "- volkswagen : bentley, skoda, audi, lamborghini, bugatti, porshe, volkswagen\n",
    "- fiat chrysler automobiles : jeep, fiat, dodge, abarth, lancia, alpha_romeo, chrysler\n",
    "- psa group : peugeot, citreon, opel, vauxhall\n",
    "- daimler : mercedes_benz, smart, maybach\n",
    "- bmw : bmw, mini, rolls_royce\n",
    "- group renault : nissan, infiniti, mitsubishi, renault\n",
    "- Tata motors : land rover, jaguar\n",
    "- hyundai : hyundai, kia, genesis\n",
    "- geely : volvo, lotus\n",
    "- fuji heavy industries : subaru\n",
    "- independants : everyone else"
   ]
  },
  {
   "cell_type": "code",
   "execution_count": null,
   "metadata": {},
   "outputs": [],
   "source": [
    "#making some ugly functions\n",
    "def brandcounter(braand):\n",
    "    sum = cardata[\"brand\"].str.count(braand).sum()\n",
    "    return sum\n",
    "\n",
    "def parentcounterlists(listofbrands):\n",
    "    brandlist = []\n",
    "    for i in listofbrands:\n",
    "        brandlist.append(brandcounter(i))\n",
    "        sum1 = sum(brandlist)\n",
    "    return sum1\n",
    "\n",
    "def parentcounterlistsoflists(listlistofbrands):\n",
    "    brandlist = []\n",
    "    for i in listlistofbrands:\n",
    "        brandlist.append(parentcounterlists(i))\n",
    "    return brandlist\n",
    "#parent company and car lists\n",
    "parent_companies = [\n",
    "\"Toyota\", \n",
    "\"General Motors\", \n",
    "\"Volkswagen\",\n",
    "\"Fiat\\nChrysler\\nAutomobiles\", \n",
    "\"PSA Group\", \n",
    "\"Daimler\",\n",
    "\"BMW\",\n",
    "\"Group Renault\",\n",
    "\"Tata Motors\",\n",
    "\"Hyundai\",\n",
    "\"Geely\", \n",
    "\"Fuji\\nHeavy\\nIndustries\", \n",
    "\"Independants\" \n",
    "]\n",
    "\n",
    "parent_company_cars = [\n",
    "[\"palexus\", \"daihatsu\", \"toyota\"],\n",
    "[\"chevrolet\", \"buic\", \"cadillac\", \"holden\", \"hsv\"],\n",
    "[\"bentley\", \"skoda\", \"audi\", \"lamborghini\", \"bugatti\", \"porshe\", \"volkswagen\"],\n",
    "[\"jeep\", \"fiat\", \"dodge\", \"abarth\", \"lancia\", \"alpha_romeo\", \"chrysler\"],\n",
    "[\"peugeot\", \"citroen\", \"opel\", \"vauxhall\"],\n",
    "[\"mercedes_benz\", \"smart\", \"maybach\"],\n",
    "[\"bmw\", \"mini\", \"rolls_royce\"],\n",
    "[\"nissan\", \"infiniti\", \"mitsubishi\", \"renault\"],\n",
    "[\"land rover\", \"jaguar\"],\n",
    "[\"hyundai\", \"kia\", \"genesis\"],\n",
    "[\"volvo\", \"lotus\"],\n",
    "[\"subaru\"]\n",
    "]\n",
    "#Making a new clean dataset \n",
    "\n",
    "# This was done by searching brands from parent_company_cars and counting them in the german car data csv\n",
    "\n",
    "parent_count = list(parentcounterlistsoflists(parent_company_cars))\n",
    "\n",
    "independant_count = len(cardata[\"brand\"]) - sum(parent_count)\n",
    "parent_count.append(independant_count)  \n",
    "    \n",
    "#Reorganising Data for another Graph\n",
    "data = cardata[\"brand\"].value_counts()\n",
    "data1 = data.index.tolist()\n",
    "data2 = data.tolist()\n",
    "data3 = []\n",
    "for i in data1:\n",
    "\n",
    "    if i in (item for sublist in parent_company_cars for item in sublist):\n",
    "        f = next(((j, car.index(i))\n",
    "              for j, car in enumerate(parent_company_cars)\n",
    "              if i in car),\n",
    "             None)\n",
    "        f = f[0]\n",
    "        data3.append(parent_companies[f])\n",
    "    else:\n",
    "        data3.append('Independant') \n",
    "\n",
    "brand = pd.DataFrame({'Parent Companies': data3 , 'Quantity of Cars': data2 , 'Car Brand': data1})\n"
   ]
  },
  {
   "cell_type": "code",
   "execution_count": null,
   "metadata": {},
   "outputs": [],
   "source": [
    "#Finally Plotting it\n",
    "df = pd.DataFrame({'Parent Companies': parent_companies , 'Quantity of Cars': parent_count})\n",
    "df.sort_values('Quantity of Cars',inplace= True, ascending = False)\n",
    "ax = df.plot.bar(x='Parent Companies',  rot=0, width = 0.5)\n",
    "plt.xlabel('\\n Parent Company', fontsize=15)\n",
    "plt.ylabel('Quantity of Cars', fontsize=15, rotation='vertical', ha='right')\n",
    "plt.title(\"Car Family Manufactures\", fontsize=20 )"
   ]
  },
  {
   "cell_type": "markdown",
   "metadata": {},
   "source": [
    "I found the representation of this data in the above table quite simplistic so i explored some different graphs including some cool things called Treemaps :)"
   ]
  },
  {
   "cell_type": "code",
   "execution_count": null,
   "metadata": {},
   "outputs": [],
   "source": [
    "brand.head()"
   ]
  },
  {
   "cell_type": "code",
   "execution_count": null,
   "metadata": {},
   "outputs": [],
   "source": [
    "plt.figure(figsize=(20,10))\n",
    "squarify.plot(sizes=parent_count,\n",
    "              color=['#221A7C','#202785','#1D348E','#1B4297', '#184FA0', '#165CA9'  , '#1369B2', '#0979B9',\"#0089c0\", '#0095C2', '#00A2C4', '#00AEC5', \\\n",
    "         '#00BAC7', '#16C0C5','#2BC5C3', '#41CBC0', '#56D0BE', '#6CD6BC', '#77DABB',  '#83DEBA', '#8EE1B8',  '#9AE5B7', \\\n",
    "          '#A5E9B6', '#B0EDB5', '#BCF0B3', '#C7F4B2', '#CCF5B4', '#D1F7B6', '#DCFAB9', '#E6FCBD', '#F0FFC0'],\n",
    "              label=parent_companies,\n",
    "              pad=True)\n",
    "\n",
    "plt.title('Treemap', fontsize=20 )\n",
    "plt.axis('off');"
   ]
  },
  {
   "cell_type": "code",
   "execution_count": null,
   "metadata": {},
   "outputs": [],
   "source": []
  },
  {
   "cell_type": "code",
   "execution_count": null,
   "metadata": {},
   "outputs": [],
   "source": [
    "data = dict(zip(parent_companies, parent_count))\n",
    "fig = plt.figure(FigureClass=Waffle,\n",
    "                 figsize=(18,8),\n",
    "                 rows=15,\n",
    "                 columns=25,\n",
    "                 values=parent_count,\n",
    "                 title={'label': 'Car Manufacturer by Parent Companies',\n",
    "                        'loc': 'left',\n",
    "                        'fontdict': {'fontsize': 20}},\n",
    "                 labels=[\"{} ({:,})\".format(k, v) for k, v in data.items()],\n",
    "                 legend={'loc': 'lower left',\n",
    "                         'bbox_to_anchor': (0, -0.4),\n",
    "                         'ncol': 6,\n",
    "                         'framealpha': 0,\n",
    "                         'fontsize': 12})"
   ]
  },
  {
   "cell_type": "code",
   "execution_count": null,
   "metadata": {},
   "outputs": [],
   "source": [
    "data = dict(zip(data1,data2))\n",
    "fig = plt.figure(FigureClass=Waffle,\n",
    "                 figsize=(18,8),\n",
    "                 rows=15,\n",
    "                 columns=25,\n",
    "                 values=data2,\n",
    "                 title={'label': 'Car Manufacturers',\n",
    "                        'loc': 'left',\n",
    "                        'fontdict': {'fontsize': 20}},\n",
    "                 labels=[\"{} ({:,})\".format(k, v) for k, v in data.items()],\n",
    "                 legend={'loc': 'lower left',\n",
    "                         'bbox_to_anchor': (0, -0.4),\n",
    "                         'ncol': 6,\n",
    "                         'framealpha': 0,\n",
    "                         'fontsize': 12})"
   ]
  },
  {
   "cell_type": "code",
   "execution_count": null,
   "metadata": {},
   "outputs": [],
   "source": [
    "df1 = pd.pivot_table(brand, values='Quantity of Cars', index='Parent Companies', columns='Car Brand')\n",
    "df1"
   ]
  },
  {
   "cell_type": "code",
   "execution_count": null,
   "metadata": {},
   "outputs": [],
   "source": [
    "df1 = pd.pivot_table(brand, values='Quantity of Cars', index='Parent Companies', columns='Car Brand')\n",
    "df1.plot(kind='bar', stacked=True).legend(bbox_to_anchor=(1.2, 1))\n",
    "plt.xlabel('\\n Parent Company', fontsize=15)\n",
    "plt.ylabel('Quantity of Cars', fontsize=15, rotation='vertical', ha='right')\n",
    "plt.title(\"Car Family Manufactures\", fontsize=20 )\n",
    "#rectangle artists\n"
   ]
  },
  {
   "cell_type": "code",
   "execution_count": null,
   "metadata": {},
   "outputs": [],
   "source": [
    "#I tried sorting it, but it took too long\n",
    "# sort = brand.groupby('Parent Companies').sum().sort_values('Quantity of Cars', ascending = False).index\n",
    "# df1 = pd.pivot_table(brand, values='Quantity of Cars', index='Parent Companies', columns='Car Brand').reindex(sort_list) \n",
    "# df1.plot(kind='bar', stacked=True).legend(bbox_to_anchor=(1.2, 1))\n",
    "# plt.xlabel('\\n Parent Company', fontsize=15)\n",
    "# plt.ylabel('Quantity of Cars', fontsize=15, rotation='vertical', ha='right')\n",
    "# plt.title(\"Car Family Manufactures\", fontsize=20 )"
   ]
  },
  {
   "cell_type": "code",
   "execution_count": null,
   "metadata": {},
   "outputs": [],
   "source": [
    "brand.head()"
   ]
  },
  {
   "cell_type": "code",
   "execution_count": null,
   "metadata": {},
   "outputs": [],
   "source": [
    "cardata[\"dateCreated\"].value_counts().plot(kind=\"bar\")"
   ]
  },
  {
   "cell_type": "markdown",
   "metadata": {},
   "source": [
    "# Maps\n",
    "\n",
    "I found a map shape file of Germany that included corresponding postal codes that i could link to my car data. I found the shape file here (the site is in German, you might want to translate it):\n",
    "https://www.suche-postleitzahl.org/downloads\n",
    "\n"
   ]
  },
  {
   "cell_type": "markdown",
   "metadata": {},
   "source": [
    "Probably dont run the following cell as it takes a while, but you will see a massive shape file of germany"
   ]
  },
  {
   "cell_type": "code",
   "execution_count": null,
   "metadata": {},
   "outputs": [],
   "source": [
    "germanburbs.geometry.plot()"
   ]
  },
  {
   "cell_type": "code",
   "execution_count": null,
   "metadata": {},
   "outputs": [],
   "source": [
    "germanburbs.head()"
   ]
  },
  {
   "cell_type": "markdown",
   "metadata": {},
   "source": [
    "## Adding Car data to the Map\n",
    "Trying to add a count of sales and other information in each postcode. I aim to further add other characteristics like comparing the most prominant car brands regionally"
   ]
  },
  {
   "cell_type": "code",
   "execution_count": null,
   "metadata": {
    "tags": []
   },
   "outputs": [],
   "source": [
    "#Really rough distribution of car sales via postal code\n",
    "df = cardata[\"postalCode\"]\n",
    "df.hist()"
   ]
  },
  {
   "cell_type": "code",
   "execution_count": 172,
   "metadata": {
    "tags": []
   },
   "outputs": [],
   "source": [
    "#This is a function that will run from a lamda that will count the number of cars sold in each postcode\n",
    "cardata[\"postalCode\"] = cardata[\"postalCode\"].astype(str)\n",
    "counts = cardata['postalCode'].value_counts().rename_axis('postalCode').reset_index(name='count')\n",
    "plist = counts['postalCode'].tolist()\n",
    "def pccounter(pcode):\n",
    "    pcode = str(pcode)\n",
    "    if pcode in plist:\n",
    "        num = counts.loc[counts['postalCode'] == pcode, 'count'].iloc[0]\n",
    "        return num\n",
    "    else:\n",
    "        return 0\n"
   ]
  },
  {
   "cell_type": "code",
   "execution_count": 173,
   "metadata": {},
   "outputs": [],
   "source": [
    "#This is the lambda function that adds the count column\n",
    "germanburbs['count'] = germanburbs.apply(lambda x: pccounter(x['plz']), axis=1)\n"
   ]
  },
  {
   "cell_type": "code",
   "execution_count": 176,
   "metadata": {
    "tags": []
   },
   "outputs": [],
   "source": [
    "\n",
    "# I had to write all these down manually as i got the error when trying to make a function that alters a dataframe\n",
    "# 'DataFrame' objects are mutable, thus they cannot be hashed\n",
    "\n",
    "#Resorting Data into mean and modes\n",
    "df = cardata\n",
    "df['postalCode'] = df['postalCode'].astype(str)\n",
    "\n",
    "price = df.groupby(\"postalCode\").agg({\"price\":['mean']}).reset_index()\n",
    "price['price'] = price['price'].astype(int)\n",
    "price.columns = price.columns.droplevel(1)\n",
    "\n",
    "gear = df.groupby(\"postalCode\")['gearbox'].agg(pd.Series.mode)\n",
    "\n",
    "brand1 = df.groupby(\"postalCode\")['brand'].agg(pd.Series.mode)\n",
    "\n",
    "fuel = df.groupby(\"postalCode\")['fuelType'].agg(pd.Series.mode)\n",
    "\n",
    "vtype = df.groupby(\"postalCode\")['vehicleType'].agg(pd.Series.mode)\n",
    "\n",
    "power = df.groupby(\"postalCode\").agg({\"powerPS\":['mean']}).reset_index()\n",
    "power['powerPS'] = power['powerPS'].astype(int)\n",
    "power.columns = power.columns.droplevel(1)\n",
    "\n",
    "regoY = df.groupby(\"postalCode\").agg({\"yearOfRegistration\":['mean']}).reset_index()\n",
    "regoY['yearOfRegistration'] = regoY['yearOfRegistration'].astype(int)\n",
    "regoY.columns = regoY.columns.droplevel(1)\n",
    "\n",
    "regoM = df.groupby(\"postalCode\").agg({\"monthOfRegistration\":['mean']}).reset_index()\n",
    "regoM['monthOfRegistration'] = regoM['monthOfRegistration'].astype(int)\n",
    "regoM.columns = regoM.columns.droplevel(1)\n",
    "\n",
    "#This is a function that will run from a lamda that will transfer the data above into the map data\n",
    "\n",
    "counts = cardata['postalCode'].value_counts().rename_axis('postalCode').reset_index(name='count')\n",
    "plist = counts['postalCode'].tolist()\n",
    "def pccounter2(pcode,df,column):\n",
    "    pcode = str(pcode)\n",
    "    if pcode in plist:\n",
    "        e = df.loc[df['postalCode'] == pcode,column].iloc[0]\n",
    "        num = int(e)\n",
    "        return num\n",
    "    else:\n",
    "        return 0\n",
    "def pcmode(pcode,df1):\n",
    "    pcode = str(pcode)\n",
    "    if pcode in plist:\n",
    "        e = df1[pcode]\n",
    "        return e\n",
    "    else:\n",
    "        return 0\n",
    "\n",
    "# These are some lambda functions\n",
    "germanburbs['Gearbox'] = germanburbs.apply(lambda x: pcmode(x['plz'],gear), axis=1)\n",
    "germanburbs['Car Brand'] = germanburbs.apply(lambda x: pcmode(x['plz'],brand1), axis=1)\n",
    "germanburbs['Fuel Type'] = germanburbs.apply(lambda x: pcmode(x['plz'],fuel), axis=1)\n",
    "germanburbs['Vehicle Type'] = germanburbs.apply(lambda x: pcmode(x['plz'],vtype), axis=1)\n",
    "germanburbs['Car Price Av'] = germanburbs.apply(lambda x: pccounter2(x['plz'],price,'price'), axis=1)\n",
    "germanburbs['Car Power Av'] = germanburbs.apply(lambda x: pccounter2(x['plz'],power,'powerPS'), axis=1)\n",
    "germanburbs['Rego Year'] = germanburbs.apply(lambda x: pccounter2(x['plz'],regoY,'yearOfRegistration'), axis=1)\n",
    "germanburbs['Rego Month'] = germanburbs.apply(lambda x: pccounter2(x['plz'],regoM,'monthOfRegistration'), axis=1)\n",
    "                                        "
   ]
  },
  {
   "cell_type": "code",
   "execution_count": 177,
   "metadata": {},
   "outputs": [
    {
     "output_type": "execute_result",
     "data": {
      "text/plain": "        plz                    note  \\\n3293  71732              71732 Tamm   \n6200  82288     82288 Kottgeisering   \n1834  49088        49088 OsnabrÃ¼ck   \n4836  97490      97490 Poppenhausen   \n6310  39638        39638 Gardelegen   \n3308  63697        63697 Hirzenhain   \n8421  12623  12623 Berlin Mahlsdorf   \n2888  75391         75391 Gechingen   \n3243  31711            31711 Luhden   \n2480  78652       78652 DeiÃlingen   \n\n                                               geometry  count  Gearbox  \\\n3293  POLYGON ((9.08649 48.92112, 9.08715 48.92245, ...     40  manuell   \n6200  POLYGON ((11.10298 48.12622, 11.10319 48.12664...      2  manuell   \n1834  POLYGON ((8.03624 52.29246, 8.03793 52.29238, ...     96  manuell   \n4836  POLYGON ((10.07086 50.10310, 10.07124 50.10403...     22  manuell   \n6310  POLYGON ((11.20265 52.56187, 11.20295 52.56281...     69  manuell   \n3308  POLYGON ((9.09359 50.42780, 9.09727 50.43094, ...     15  manuell   \n8421  POLYGON ((13.57863 52.48266, 13.57905 52.48386...    108  manuell   \n2888  POLYGON ((8.78944 48.67646, 8.79000 48.67685, ...     19  manuell   \n3243  POLYGON ((9.06200 52.22324, 9.06202 52.22341, ...      7  manuell   \n2480  POLYGON ((8.54282 48.11367, 8.54320 48.11481, ...     21  manuell   \n\n                              Car Brand Fuel Type         Vehicle Type  \\\n3293        [mercedes_benz, volkswagen]    benzin           kleinwagen   \n6200                       [bmw, skoda]    benzin  [cabrio, limousine]   \n1834                               opel    benzin            limousine   \n4836  [audi, mercedes_benz, volkswagen]    benzin                kombi   \n6310                         volkswagen    benzin            limousine   \n3308                                bmw    benzin   [kombi, limousine]   \n8421                         volkswagen    benzin            limousine   \n2888                         volkswagen    benzin           kleinwagen   \n3243                               ford    benzin           kleinwagen   \n2480                                bmw    benzin            limousine   \n\n      Car Price Av  Car Power Av  Rego Year  Rego Month  \n3293          6058           112       2002           5  \n6200          5899           136       2004           7  \n1834          4264           104       2003           5  \n4836          2788           121       2001           5  \n6310          4468           110       2001           5  \n3308          3587           142       2001           3  \n8421          5484           106       2003           6  \n2888          4602           101       2003           5  \n3243          4520            68       2009           5  \n2480          8572            97       2003           5  ",
      "text/html": "<div>\n<style scoped>\n    .dataframe tbody tr th:only-of-type {\n        vertical-align: middle;\n    }\n\n    .dataframe tbody tr th {\n        vertical-align: top;\n    }\n\n    .dataframe thead th {\n        text-align: right;\n    }\n</style>\n<table border=\"1\" class=\"dataframe\">\n  <thead>\n    <tr style=\"text-align: right;\">\n      <th></th>\n      <th>plz</th>\n      <th>note</th>\n      <th>geometry</th>\n      <th>count</th>\n      <th>Gearbox</th>\n      <th>Car Brand</th>\n      <th>Fuel Type</th>\n      <th>Vehicle Type</th>\n      <th>Car Price Av</th>\n      <th>Car Power Av</th>\n      <th>Rego Year</th>\n      <th>Rego Month</th>\n    </tr>\n  </thead>\n  <tbody>\n    <tr>\n      <th>3293</th>\n      <td>71732</td>\n      <td>71732 Tamm</td>\n      <td>POLYGON ((9.08649 48.92112, 9.08715 48.92245, ...</td>\n      <td>40</td>\n      <td>manuell</td>\n      <td>[mercedes_benz, volkswagen]</td>\n      <td>benzin</td>\n      <td>kleinwagen</td>\n      <td>6058</td>\n      <td>112</td>\n      <td>2002</td>\n      <td>5</td>\n    </tr>\n    <tr>\n      <th>6200</th>\n      <td>82288</td>\n      <td>82288 Kottgeisering</td>\n      <td>POLYGON ((11.10298 48.12622, 11.10319 48.12664...</td>\n      <td>2</td>\n      <td>manuell</td>\n      <td>[bmw, skoda]</td>\n      <td>benzin</td>\n      <td>[cabrio, limousine]</td>\n      <td>5899</td>\n      <td>136</td>\n      <td>2004</td>\n      <td>7</td>\n    </tr>\n    <tr>\n      <th>1834</th>\n      <td>49088</td>\n      <td>49088 OsnabrÃ¼ck</td>\n      <td>POLYGON ((8.03624 52.29246, 8.03793 52.29238, ...</td>\n      <td>96</td>\n      <td>manuell</td>\n      <td>opel</td>\n      <td>benzin</td>\n      <td>limousine</td>\n      <td>4264</td>\n      <td>104</td>\n      <td>2003</td>\n      <td>5</td>\n    </tr>\n    <tr>\n      <th>4836</th>\n      <td>97490</td>\n      <td>97490 Poppenhausen</td>\n      <td>POLYGON ((10.07086 50.10310, 10.07124 50.10403...</td>\n      <td>22</td>\n      <td>manuell</td>\n      <td>[audi, mercedes_benz, volkswagen]</td>\n      <td>benzin</td>\n      <td>kombi</td>\n      <td>2788</td>\n      <td>121</td>\n      <td>2001</td>\n      <td>5</td>\n    </tr>\n    <tr>\n      <th>6310</th>\n      <td>39638</td>\n      <td>39638 Gardelegen</td>\n      <td>POLYGON ((11.20265 52.56187, 11.20295 52.56281...</td>\n      <td>69</td>\n      <td>manuell</td>\n      <td>volkswagen</td>\n      <td>benzin</td>\n      <td>limousine</td>\n      <td>4468</td>\n      <td>110</td>\n      <td>2001</td>\n      <td>5</td>\n    </tr>\n    <tr>\n      <th>3308</th>\n      <td>63697</td>\n      <td>63697 Hirzenhain</td>\n      <td>POLYGON ((9.09359 50.42780, 9.09727 50.43094, ...</td>\n      <td>15</td>\n      <td>manuell</td>\n      <td>bmw</td>\n      <td>benzin</td>\n      <td>[kombi, limousine]</td>\n      <td>3587</td>\n      <td>142</td>\n      <td>2001</td>\n      <td>3</td>\n    </tr>\n    <tr>\n      <th>8421</th>\n      <td>12623</td>\n      <td>12623 Berlin Mahlsdorf</td>\n      <td>POLYGON ((13.57863 52.48266, 13.57905 52.48386...</td>\n      <td>108</td>\n      <td>manuell</td>\n      <td>volkswagen</td>\n      <td>benzin</td>\n      <td>limousine</td>\n      <td>5484</td>\n      <td>106</td>\n      <td>2003</td>\n      <td>6</td>\n    </tr>\n    <tr>\n      <th>2888</th>\n      <td>75391</td>\n      <td>75391 Gechingen</td>\n      <td>POLYGON ((8.78944 48.67646, 8.79000 48.67685, ...</td>\n      <td>19</td>\n      <td>manuell</td>\n      <td>volkswagen</td>\n      <td>benzin</td>\n      <td>kleinwagen</td>\n      <td>4602</td>\n      <td>101</td>\n      <td>2003</td>\n      <td>5</td>\n    </tr>\n    <tr>\n      <th>3243</th>\n      <td>31711</td>\n      <td>31711 Luhden</td>\n      <td>POLYGON ((9.06200 52.22324, 9.06202 52.22341, ...</td>\n      <td>7</td>\n      <td>manuell</td>\n      <td>ford</td>\n      <td>benzin</td>\n      <td>kleinwagen</td>\n      <td>4520</td>\n      <td>68</td>\n      <td>2009</td>\n      <td>5</td>\n    </tr>\n    <tr>\n      <th>2480</th>\n      <td>78652</td>\n      <td>78652 DeiÃlingen</td>\n      <td>POLYGON ((8.54282 48.11367, 8.54320 48.11481, ...</td>\n      <td>21</td>\n      <td>manuell</td>\n      <td>bmw</td>\n      <td>benzin</td>\n      <td>limousine</td>\n      <td>8572</td>\n      <td>97</td>\n      <td>2003</td>\n      <td>5</td>\n    </tr>\n  </tbody>\n</table>\n</div>"
     },
     "metadata": {},
     "execution_count": 177
    }
   ],
   "source": [
    "germanburbs.sample(10)"
   ]
  },
  {
   "cell_type": "markdown",
   "metadata": {},
   "source": [
    "### Sorting Done\n",
    "Now From my germanburbs data i am able to tell the avcar price, the most common car type, brand, gearbox etc on any postcode"
   ]
  },
  {
   "cell_type": "code",
   "execution_count": 178,
   "metadata": {},
   "outputs": [
    {
     "output_type": "execute_result",
     "data": {
      "text/plain": "        plz                  note  \\\n5285  91567       91567 Herrieden   \n6935  93326       93326 Abensberg   \n4795  73433           73433 Aalen   \n6243  91358        91358 Kunreuth   \n178   54587      54587 Lissendorf   \n3734  34131          34131 Kassel   \n4602  89075             89075 Ulm   \n1218  58509    58509 LÃ¼denscheid   \n4633  31135      31135 Hildesheim   \n2856  32545  32545 Bad Oeynhausen   \n\n                                               geometry  count  Gearbox  \\\n5285  POLYGON ((10.38095 49.19798, 10.38129 49.19813...     23  manuell   \n6935  POLYGON ((11.79339 48.84403, 11.79958 48.84766...     82  manuell   \n4795  POLYGON ((10.05072 48.86170, 10.05118 48.87245...     74  manuell   \n6243  POLYGON ((11.13436 49.68309, 11.13531 49.68310...      4  manuell   \n178   POLYGON ((6.53603 50.31115, 6.54376 50.31623, ...      6  manuell   \n3734  POLYGON ((9.35008 51.30687, 9.35045 51.30701, ...     49  manuell   \n4602  POLYGON ((9.93620 48.41524, 9.93821 48.41590, ...    133  manuell   \n1218  POLYGON ((7.58223 51.21556, 7.58260 51.21772, ...    117  manuell   \n4633  POLYGON ((9.95219 52.18412, 9.96287 52.18540, ...    106  manuell   \n2856  POLYGON ((8.76951 52.16887, 8.76956 52.16909, ...    118  manuell   \n\n        Car Brand Fuel Type Vehicle Type  Car Price Av  Car Power Av  \\\n5285  [bmw, opel]    benzin    limousine          4954           137   \n6935         audi    benzin    limousine          7318           131   \n4795          bmw    benzin    limousine          4955           118   \n6243         seat    benzin    limousine          9474           218   \n178    volkswagen    benzin   kleinwagen          3272           128   \n3734   volkswagen    benzin   kleinwagen          8997           139   \n4602   volkswagen    benzin    limousine          5721           114   \n1218   volkswagen    benzin   kleinwagen          6493            98   \n4633   volkswagen    benzin    limousine          3463           107   \n2856         opel    benzin   kleinwagen          3637            91   \n\n      Rego Year  Rego Month  \n5285       2001           5  \n6935       2003           5  \n4795       2003           4  \n6243       2006           6  \n178        2001           4  \n3734       2004           5  \n4602       2003           6  \n1218       2004           5  \n4633       2003           7  \n2856       2000           3  ",
      "text/html": "<div>\n<style scoped>\n    .dataframe tbody tr th:only-of-type {\n        vertical-align: middle;\n    }\n\n    .dataframe tbody tr th {\n        vertical-align: top;\n    }\n\n    .dataframe thead th {\n        text-align: right;\n    }\n</style>\n<table border=\"1\" class=\"dataframe\">\n  <thead>\n    <tr style=\"text-align: right;\">\n      <th></th>\n      <th>plz</th>\n      <th>note</th>\n      <th>geometry</th>\n      <th>count</th>\n      <th>Gearbox</th>\n      <th>Car Brand</th>\n      <th>Fuel Type</th>\n      <th>Vehicle Type</th>\n      <th>Car Price Av</th>\n      <th>Car Power Av</th>\n      <th>Rego Year</th>\n      <th>Rego Month</th>\n    </tr>\n  </thead>\n  <tbody>\n    <tr>\n      <th>5285</th>\n      <td>91567</td>\n      <td>91567 Herrieden</td>\n      <td>POLYGON ((10.38095 49.19798, 10.38129 49.19813...</td>\n      <td>23</td>\n      <td>manuell</td>\n      <td>[bmw, opel]</td>\n      <td>benzin</td>\n      <td>limousine</td>\n      <td>4954</td>\n      <td>137</td>\n      <td>2001</td>\n      <td>5</td>\n    </tr>\n    <tr>\n      <th>6935</th>\n      <td>93326</td>\n      <td>93326 Abensberg</td>\n      <td>POLYGON ((11.79339 48.84403, 11.79958 48.84766...</td>\n      <td>82</td>\n      <td>manuell</td>\n      <td>audi</td>\n      <td>benzin</td>\n      <td>limousine</td>\n      <td>7318</td>\n      <td>131</td>\n      <td>2003</td>\n      <td>5</td>\n    </tr>\n    <tr>\n      <th>4795</th>\n      <td>73433</td>\n      <td>73433 Aalen</td>\n      <td>POLYGON ((10.05072 48.86170, 10.05118 48.87245...</td>\n      <td>74</td>\n      <td>manuell</td>\n      <td>bmw</td>\n      <td>benzin</td>\n      <td>limousine</td>\n      <td>4955</td>\n      <td>118</td>\n      <td>2003</td>\n      <td>4</td>\n    </tr>\n    <tr>\n      <th>6243</th>\n      <td>91358</td>\n      <td>91358 Kunreuth</td>\n      <td>POLYGON ((11.13436 49.68309, 11.13531 49.68310...</td>\n      <td>4</td>\n      <td>manuell</td>\n      <td>seat</td>\n      <td>benzin</td>\n      <td>limousine</td>\n      <td>9474</td>\n      <td>218</td>\n      <td>2006</td>\n      <td>6</td>\n    </tr>\n    <tr>\n      <th>178</th>\n      <td>54587</td>\n      <td>54587 Lissendorf</td>\n      <td>POLYGON ((6.53603 50.31115, 6.54376 50.31623, ...</td>\n      <td>6</td>\n      <td>manuell</td>\n      <td>volkswagen</td>\n      <td>benzin</td>\n      <td>kleinwagen</td>\n      <td>3272</td>\n      <td>128</td>\n      <td>2001</td>\n      <td>4</td>\n    </tr>\n    <tr>\n      <th>3734</th>\n      <td>34131</td>\n      <td>34131 Kassel</td>\n      <td>POLYGON ((9.35008 51.30687, 9.35045 51.30701, ...</td>\n      <td>49</td>\n      <td>manuell</td>\n      <td>volkswagen</td>\n      <td>benzin</td>\n      <td>kleinwagen</td>\n      <td>8997</td>\n      <td>139</td>\n      <td>2004</td>\n      <td>5</td>\n    </tr>\n    <tr>\n      <th>4602</th>\n      <td>89075</td>\n      <td>89075 Ulm</td>\n      <td>POLYGON ((9.93620 48.41524, 9.93821 48.41590, ...</td>\n      <td>133</td>\n      <td>manuell</td>\n      <td>volkswagen</td>\n      <td>benzin</td>\n      <td>limousine</td>\n      <td>5721</td>\n      <td>114</td>\n      <td>2003</td>\n      <td>6</td>\n    </tr>\n    <tr>\n      <th>1218</th>\n      <td>58509</td>\n      <td>58509 LÃ¼denscheid</td>\n      <td>POLYGON ((7.58223 51.21556, 7.58260 51.21772, ...</td>\n      <td>117</td>\n      <td>manuell</td>\n      <td>volkswagen</td>\n      <td>benzin</td>\n      <td>kleinwagen</td>\n      <td>6493</td>\n      <td>98</td>\n      <td>2004</td>\n      <td>5</td>\n    </tr>\n    <tr>\n      <th>4633</th>\n      <td>31135</td>\n      <td>31135 Hildesheim</td>\n      <td>POLYGON ((9.95219 52.18412, 9.96287 52.18540, ...</td>\n      <td>106</td>\n      <td>manuell</td>\n      <td>volkswagen</td>\n      <td>benzin</td>\n      <td>limousine</td>\n      <td>3463</td>\n      <td>107</td>\n      <td>2003</td>\n      <td>7</td>\n    </tr>\n    <tr>\n      <th>2856</th>\n      <td>32545</td>\n      <td>32545 Bad Oeynhausen</td>\n      <td>POLYGON ((8.76951 52.16887, 8.76956 52.16909, ...</td>\n      <td>118</td>\n      <td>manuell</td>\n      <td>opel</td>\n      <td>benzin</td>\n      <td>kleinwagen</td>\n      <td>3637</td>\n      <td>91</td>\n      <td>2000</td>\n      <td>3</td>\n    </tr>\n  </tbody>\n</table>\n</div>"
     },
     "metadata": {},
     "execution_count": 178
    }
   ],
   "source": [
    "germanburbs.sample(10)"
   ]
  },
  {
   "cell_type": "markdown",
   "metadata": {},
   "source": [
    "## Regional Car Sales \n",
    "Below is the plots of regional car sales analysis. There was alot of areas, so i chose to focus around the postcode with the most sales which happened to be a place called Bochum."
   ]
  },
  {
   "cell_type": "code",
   "execution_count": null,
   "metadata": {},
   "outputs": [],
   "source": [
    "germanburbs.plot(column='count', cmap='cool', legend=True)"
   ]
  },
  {
   "cell_type": "code",
   "execution_count": null,
   "metadata": {
    "tags": []
   },
   "outputs": [],
   "source": [
    "a = germanburbs.iloc[0]\n",
    "print(a)\n",
    "a.geometry"
   ]
  },
  {
   "cell_type": "code",
   "execution_count": null,
   "metadata": {},
   "outputs": [],
   "source": [
    "def add_centroid(row):\n",
    "    return row.geometry.centroid\n",
    "\n",
    "germanburbs[\"centroid\"] = germanburbs.apply(add_centroid, axis=1)"
   ]
  },
  {
   "cell_type": "code",
   "execution_count": null,
   "metadata": {
    "tags": []
   },
   "outputs": [],
   "source": [
    "#I found the Purple bit really interesting so i went to inspect it further\n",
    "x = germanburbs[\"count\"].nlargest(1).index[0]\n",
    "a = germanburbs.iloc[x]\n",
    "print(a.centroid)\n",
    "a.centroid\n",
    "print(a)\n"
   ]
  },
  {
   "cell_type": "code",
   "execution_count": null,
   "metadata": {},
   "outputs": [],
   "source": [
    "right_here = shapely.geometry.point.Point(8.270924555201304, 49.98808464340505)\n",
    "germanburbs[\"distance_from_mainz\"] = burbs.geometry.distance(right_here)\n",
    "close_burbs = germanburbs[germanburbs.distance_from_mainz<0.2]\n",
    "close_burbs.plot(column='count', cmap='cool', legend=True)"
   ]
  },
  {
   "cell_type": "code",
   "execution_count": null,
   "metadata": {},
   "outputs": [],
   "source": [
    "germanburbs.distance_from_mainz.hist(bins=50);"
   ]
  },
  {
   "cell_type": "code",
   "execution_count": null,
   "metadata": {
    "slideshow": {
     "slide_type": "-"
    }
   },
   "outputs": [],
   "source": [
    "right_here = shapely.geometry.point.Point(13.3846772483033, 52.53213958289162)\n",
    "germanburbs[\"distance_from_berlinmitte\"] = burbs.geometry.distance(right_here)\n",
    "closer_burbs = germanburbs[germanburbs.distance_from_berlinmitte<0.1]\n",
    "closer_burbs.plot(column='count', cmap='cool', legend=True);"
   ]
  },
  {
   "cell_type": "code",
   "execution_count": null,
   "metadata": {},
   "outputs": [],
   "source": [
    "closer_burbs[germanburbs.distance_from_berlinmitte<0.5]\n",
    "closer_burbs.plot(column='count', cmap='cool', legend=True);"
   ]
  },
  {
   "cell_type": "code",
   "execution_count": null,
   "metadata": {},
   "outputs": [],
   "source": [
    "# Make sure you read postal codes as strings, otherwise \n",
    "# the postal code 01110 will be parsed as the number 1110. \n",
    "\n",
    "\n",
    "\n",
    "plt.rcParams['figure.figsize'] = [16, 11]\n",
    "\n",
    "# Get lat and lng of Germany's main cities. \n",
    "top_cities = {\n",
    "    'Berlin': (13.404954, 52.520008), \n",
    "    'Cologne': (6.953101, 50.935173),\n",
    "    'Düsseldorf': (6.782048, 51.227144),\n",
    "    'Frankfurt am Main': (8.682127, 50.110924),\n",
    "    'Hamburg': (9.993682, 53.551086),\n",
    "    'Leipzig': (12.387772, 51.343479),\n",
    "    'Munich': (11.576124, 48.137154),\n",
    "    'Dortmund': (7.468554, 51.513400),\n",
    "    'Stuttgart': (9.181332, 48.777128),\n",
    "    'Nuremberg': (11.077438, 49.449820),\n",
    "    'Hannover': (9.73322, 52.37052)\n",
    "}\n",
    "\n",
    "fig, ax = plt.subplots()\n",
    "\n",
    "germanburbs.plot(ax=ax, color='green', alpha=0.8)\n",
    "\n",
    "# Plot cities. \n",
    "for c in top_cities.keys():\n",
    "    # Plot city name.\n",
    "    ax.text(\n",
    "        x=top_cities[c][0], \n",
    "        # Add small shift to avoid overlap with point.\n",
    "        y=top_cities[c][1] + 0.08, \n",
    "        s=c, \n",
    "        fontsize=12,\n",
    "        ha='center', \n",
    "    )\n",
    "    # Plot city location centroid.\n",
    "    ax.plot(\n",
    "        top_cities[c][0], \n",
    "        top_cities[c][1], \n",
    "        marker='o',\n",
    "        c='black', \n",
    "        alpha=0.5\n",
    "    )\n",
    "\n",
    "ax.set(\n",
    "    title='Germany', \n",
    "    aspect=1.3, \n",
    "    facecolor='lightblue'\n",
    ")"
   ]
  },
  {
   "cell_type": "markdown",
   "metadata": {},
   "source": [
    "Graphs to make\n",
    "- Car Types\n",
    "    - Coupes etc on Waffle diagram\n",
    "- Map of capital cities\n",
    "    - Top Cars\n",
    "    - Transmission\n",
    "    - Sales Price\n",
    "- Population Graph\n",
    "    - Normalised Car Sales\n",
    "    - Population vs Car Sales"
   ]
  },
  {
   "cell_type": "markdown",
   "metadata": {
    "slideshow": {
     "slide_type": "-"
    }
   },
   "source": [
    "_Note: the first `in` means a different thing to the second `in`. I was wondering if I should leave this out, but it's probably good to expose you to strange stuff!_"
   ]
  },
  {
   "cell_type": "code",
   "execution_count": null,
   "metadata": {},
   "outputs": [],
   "source": [
    "# This bit makes some random data. Ignore it\n",
    "mu, sigma = 100, 15; x = mu + sigma*np.random.randn(10000)"
   ]
  },
  {
   "cell_type": "code",
   "execution_count": null,
   "metadata": {},
   "outputs": [],
   "source": [
    "# the histogram of the data\n",
    "plt.hist(x, 50, normed=1, facecolor='green', alpha=0.75)\n",
    "plt.xlabel('Smarts')\n",
    "plt.ylabel('Probability')\n",
    "plt.title(r'$\\mathrm{Histogram\\ of\\ IQ:}\\ \\mu=100,\\ \\sigma=15$') # allows for latex formatting\n",
    "# plt.axis([40, 160, 0, 0.03])\n",
    "plt.grid(True)\n",
    "plt.show()"
   ]
  },
  {
   "cell_type": "code",
   "execution_count": null,
   "metadata": {},
   "outputs": [],
   "source": [
    "# the histogram of the data\n",
    "plt.hist(x, 50, density=True, facecolor='green', alpha=0.75)\n",
    "plt.xlabel('Smarts')\n",
    "plt.ylabel('Probability')\n",
    "plt.title(r'$\\mathrm{Histogram\\ of\\ IQ:}\\ \\mu=100,\\ \\sigma=15$') # allows for latex formatting\n",
    "# plt.axis([40, 160, 0, 0.03])\n",
    "plt.grid(True)\n",
    "plt.show()"
   ]
  },
  {
   "cell_type": "markdown",
   "metadata": {
    "slideshow": {
     "slide_type": "slide"
    }
   },
   "source": [
    "Here's how we made our histogram before:"
   ]
  },
  {
   "cell_type": "markdown",
   "metadata": {
    "slideshow": {
     "slide_type": "slide"
    }
   },
   "source": [
    "And this is how we'd change it so that we can add more features:"
   ]
  },
  {
   "cell_type": "code",
   "execution_count": null,
   "metadata": {},
   "outputs": [],
   "source": [
    "capped_face_value_data = penalty_data[\"postalCode\"]\n",
    "\n",
    "plt.hist(capped_face_value_data)\n",
    "plt.show()"
   ]
  },
  {
   "cell_type": "markdown",
   "metadata": {
    "collapsed": true,
    "slideshow": {
     "slide_type": "slide"
    }
   },
   "source": [
    "Let's look at some of the things we can do to this. The docs for histograms are here: http://matplotlib.org/api/pyplot_api.html#matplotlib.pyplot.hist"
   ]
  },
  {
   "cell_type": "code",
   "execution_count": null,
   "metadata": {},
   "outputs": [],
   "source": [
    "capped_face_value_data = penalty_data[\"postalCode\"][penalty_data[\"postalCode\"] < 60000]\n",
    "\n",
    "plt.hist(capped_face_value_data, bins=10, facecolor='blue', alpha=0.2) #<-old one\n",
    "plt.hist(capped_face_value_data, bins=50, facecolor='green', alpha=1)  #<-new one\n",
    "plt.show()"
   ]
  },
  {
   "cell_type": "markdown",
   "metadata": {
    "slideshow": {
     "slide_type": "slide"
    }
   },
   "source": [
    "We can go back to our initial, unfiltered, data:"
   ]
  },
  {
   "cell_type": "code",
   "execution_count": null,
   "metadata": {
    "slideshow": {
     "slide_type": "-"
    }
   },
   "outputs": [],
   "source": [
    "number_of_bins = 100\n",
    "lower_bound = 0\n",
    "upper_bound = 100000\n",
    "\n",
    "plt.hist(penalty_data[\"postalCode\"], bins=number_of_bins, range=(lower_bound, upper_bound))\n",
    "plt.title(\"Car sale postcode sold between{} and {}\".format(\"2016\", \"2017\"), fontsize=18)\n",
    "plt.xlabel('German Postcode', fontsize=26)\n",
    "plt.ylabel('Count', fontsize=26)\n",
    "plt.grid(True)\n",
    "plt.show()"
   ]
  },
  {
   "cell_type": "markdown",
   "metadata": {
    "slideshow": {
     "slide_type": "slide"
    }
   },
   "source": [
    "This is some straight up, powerful voodoo.\n",
    "\n",
    "We're grouping the fines by month, and then adding up the groups. Pandas' `groupby` feature allows for all kinds of clever stuff like that."
   ]
  },
  {
   "cell_type": "code",
   "execution_count": null,
   "metadata": {
    "slideshow": {
     "slide_type": "subslide"
    }
   },
   "outputs": [],
   "source": [
    "income = penalty_data[[\"postalCode\",\"price\"]].groupby(\"postalCode\").sum()\n",
    "\n",
    "plt.xkcd()\n",
    "plt.plot(income, \"x-\")\n",
    "plt.title(\"Income fom car sales\", fontsize=18)\n",
    "plt.xlabel('Postal Code', fontsize=26)\n",
    "plt.ylabel('$ Value', fontsize=26)\n",
    "plt.grid(True)\n",
    "plt.show()"
   ]
  },
  {
   "cell_type": "markdown",
   "metadata": {
    "slideshow": {
     "slide_type": "fragment"
    }
   },
   "source": [
    "## The answer is _folding_"
   ]
  },
  {
   "cell_type": "markdown",
   "metadata": {
    "slideshow": {
     "slide_type": "fragment"
    }
   },
   "source": [
    "_(This is a \"pattern\")_"
   ]
  },
  {
   "cell_type": "code",
   "execution_count": null,
   "metadata": {
    "slideshow": {
     "slide_type": "slide"
    },
    "tags": []
   },
   "outputs": [],
   "source": [
    "def fold(given):\n",
    "    \"\"\"Return canonical versions of inputs.\"\"\"\n",
    "    \n",
    "    # Use canonical variables so that you can define once, use many times.\n",
    "    UNSW_canonical = \"uni of stairs\"\n",
    "    ben_name_cannonical = \"Ben Doherty\"\n",
    "\n",
    "    # dictionary of input:output pairs\n",
    "    folds = {\n",
    "        \"University of new south wales\": UNSW_canonical,\n",
    "        \"University of New South Wales\": UNSW_canonical,\n",
    "        \"University of NSW\": UNSW_canonical,\n",
    "        \"UNSW\": UNSW_canonical,\n",
    "        \"New-south\": UNSW_canonical,\n",
    "        \"BDoh\": ben_name_cannonical,\n",
    "        \"Benny\": ben_name_cannonical,\n",
    "        \"Mr Dockerty\": ben_name_cannonical,\n",
    "        \"Oi, Dickehead!\": ben_name_cannonical\n",
    "    }\n",
    "\n",
    "#     return folds[given] # needs a defensive part, but ommited for clarity.\n",
    "    default_value = given\n",
    "    return folds.get(given, default_value)\n",
    "\n",
    "print(fold(\"New-south\"))\n",
    "print(fold(\"BDoh\"))"
   ]
  },
  {
   "cell_type": "markdown",
   "metadata": {
    "slideshow": {
     "slide_type": "slide"
    }
   },
   "source": [
    "# _fin_"
   ]
  }
 ],
 "metadata": {
  "kernelspec": {
   "display_name": "Python 3",
   "language": "python",
   "name": "python3"
  },
  "language_info": {
   "codemirror_mode": {
    "name": "ipython",
    "version": 3
   },
   "file_extension": ".py",
   "mimetype": "text/x-python",
   "name": "python",
   "nbconvert_exporter": "python",
   "pygments_lexer": "ipython3",
   "version": "3.8.3-final"
  }
 },
 "nbformat": 4,
 "nbformat_minor": 1
}