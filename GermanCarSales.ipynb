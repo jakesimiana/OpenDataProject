{
 "cells": [
  {
   "cell_type": "markdown",
   "metadata": {
    "slideshow": {
     "slide_type": "slide"
    }
   },
   "source": [
    "# German Ebay Car Sales 2016\n",
    "\n",
    "The Data-Set contains offerings of used cars in germany (20 attributes, 371528 examples). These cars where submitted to the website 'ebay Kleinanzeigen' and have been crawled between 2016-03-05 and 2016-04-07.\n",
    "\n",
    "The dataset can be found here:\n",
    "https://www.kaggle.com/orgesleka/used-cars-database\n",
    "\n",
    "### Importing a crap tone of libraries\n",
    "If you are running this for the first time, you will need to install alot of applications for the libraries that follow. You can run this in your python console, be wary that some may take a while."
   ]
  },
  {
   "cell_type": "code",
   "execution_count": null,
   "metadata": {},
   "outputs": [],
   "source": [
    "pip install wheel\n",
    "pip install squarify\n",
    "pip install pygal\n",
    "pip install pywaffle\n",
    "pip install pipwin\n",
    "pip install plotly\n",
    "pipwin install numpy\n",
    "pipwin install pandas\n",
    "pipwin install shapely\n",
    "pipwin install gdal\n",
    "pipwin install fiona\n",
    "pipwin install pyproj\n",
    "pipwin install six\n",
    "pipwin install rtree\n",
    "pipwin install descartes\n",
    "pipwin install geopandas"
   ]
  },
  {
   "cell_type": "code",
   "execution_count": 1,
   "metadata": {
    "slideshow": {
     "slide_type": "-"
    }
   },
   "outputs": [],
   "source": [
    "import matplotlib\n",
    "import matplotlib.pyplot as plt\n",
    "import numpy as np\n",
    "import pandas as pd\n",
    "import os\n",
    "import seaborn as sns\n",
    "from sklearn import preprocessing\n",
    "import squarify\n",
    "import geopandas as gp\n",
    "import shapely\n",
    "import fiona\n",
    "import pygal\n",
    "from pywaffle import Waffle\n",
    "import plotly.express as px\n",
    "\n",
    "%matplotlib inline\n",
    "plt.rcParams['figure.figsize'] = (20, 10)\n",
    "saved_style_state = matplotlib.rcParams.copy()\n"
   ]
  },
  {
   "cell_type": "markdown",
   "metadata": {
    "slideshow": {
     "slide_type": "slide"
    }
   },
   "source": [
    "### Getting the Files\n",
    "This is just a small code to pull up the csv file. It will print \"File not found!\" if the file isnt found in the OpenDataProject Directory\n"
   ]
  },
  {
   "cell_type": "code",
   "execution_count": 2,
   "metadata": {
    "slideshow": {
     "slide_type": "fragment"
    },
    "tags": []
   },
   "outputs": [
    {
     "output_type": "stream",
     "name": "stdout",
     "text": "Successfully Loaded Car CSV\nSuccessfully Loaded Map Shape File\n"
    }
   ],
   "source": [
    "#Getting the Car data File\n",
    "filepath = \"autos.csv\"\n",
    "cardata= pd.read_csv(filepath)\n",
    "print(\"Successfully Loaded Car CSV\")\n",
    "\n",
    "#Getting the Map Files\n",
    "shp_file_name = \"plz-gebiete.shp\"\n",
    "germanburbs = gp.GeoDataFrame.from_file(shp_file_name)\n",
    "print(\"Successfully Loaded Map Shape File\")"
   ]
  },
  {
   "cell_type": "markdown",
   "metadata": {},
   "source": [
    "Here is a view of the dataset. It was created using a webscraper on ebay germany. I found an explanation of the columns online as there was a couple weird entries in german, and odd coulumns including 'abtest'\n",
    "\n",
    "- dateCrawled         : when advert was first crawled, all field-values are taken from this date \\n\n",
    "- name                : headline, which the owner of the car gave to the advert \\n\n",
    "- seller              : 'privat'(ger)/'private'(en) or 'gewerblich'(ger)/'dealer'(en) \\n\n",
    "- offerType           : 'Angebot'(ger)/'offer'(en) or 'Gesuch'(ger)/'request'(en)\n",
    "- price               : the price on the advert to sell the car\n",
    "- abtest              : ebay-intern variable (argumentation in discussion-section)\n",
    "- vehicleType         : one of eight vehicle-categories \n",
    "- yearOfRegistration  : at which year the car was first registered\n",
    "- gearbox             : 'manuell'(ger)/'manual'(en) or 'automatik'(ger)/'automatic'(en)\n",
    "- powerPS             : the power of the car in PS\n",
    "- model               : the cars model\n",
    "- kilometer           : how many kilometres the car has driven\n",
    "- monthOfRegistration : at which month the car was first registered\n",
    "- fuelType            : one of seven fuel-categories\n",
    "- brand               : the cars brand\n",
    "- notRepairedDamage   : if the car has a damage which is not repaired yet\n",
    "- dateCreated         : the date for which the advert at 'ebay Kleinanzeigen' was created\n",
    "- nrOfPictures        : number of pictures in the advert\n",
    "- postalCode          : where in germany the car is located\n",
    "- lastSeenOnline      : when the crawler saw this advert last online\n",
    "\n"
   ]
  },
  {
   "cell_type": "code",
   "execution_count": null,
   "metadata": {
    "slideshow": {
     "slide_type": "slide"
    }
   },
   "outputs": [],
   "source": [
    "cardata.head(10)"
   ]
  },
  {
   "cell_type": "raw",
   "metadata": {},
   "source": [
    "#Explanation Of Columns I found online\n",
    "\n",
    "dateCrawled         : when advert was first crawled, all field-values are taken from this date\n",
    "name                : headline, which the owner of the car gave to the advert\n",
    "seller              : 'privat'(ger)/'private'(en) or 'gewerblich'(ger)/'dealer'(en)\n",
    "offerType           : 'Angebot'(ger)/'offer'(en) or 'Gesuch'(ger)/'request'(en)\n",
    "price               : the price on the advert to sell the car\n",
    "\n",
    "abtest              : ebay-intern variable (argumentation in discussion-section)\n",
    "vehicleType         : one of eight vehicle-categories \n",
    "yearOfRegistration  : at which year the car was first registered\n",
    "gearbox             : 'manuell'(ger)/'manual'(en) or 'automatik'(ger)/'automatic'(en)\n",
    "powerPS             : the power of the car in PS\n",
    "\n",
    "model               : the cars model\n",
    "kilometer           : how many kilometres the car has driven\n",
    "monthOfRegistration : at which month the car was first registered\n",
    "fuelType            : one of seven fuel-categories\n",
    "brand               : the cars brand\n",
    "\n",
    "notRepairedDamage   : if the car has a damage which is not repaired yet\n",
    "dateCreated         : the date for which the advert at 'ebay Kleinanzeigen' was created\n",
    "nrOfPictures        : number of pictures in the advert\n",
    "postalCode          : where in germany the car is located\n",
    "lastSeenOnline      : when the crawler saw this advert last online"
   ]
  },
  {
   "cell_type": "markdown",
   "metadata": {},
   "source": [
    "## Simple Car Sales Comparisons\n",
    "\n",
    "Below are some initial data analysis from simple characteristics provided in the german car data csv"
   ]
  },
  {
   "cell_type": "code",
   "execution_count": null,
   "metadata": {
    "tags": []
   },
   "outputs": [],
   "source": [
    "df = cardata[\"gearbox\"]\n",
    "\n",
    "man_num = df.str.count(\"manuell\").sum()\n",
    "aut_num = df.str.count(\"automatik\").sum()\n",
    "\n",
    "counts = [int(aut_num), int(man_num)]\n",
    "my_labels = ['Automatic Cars', 'Manual Cars']\n",
    "plt.pie(counts,labels=my_labels,autopct='%.0f%%',textprops={'fontsize': 25})\n",
    "plt.title('Car Gearbox Types',fontsize=30)\n",
    "plt.axis('equal')\n",
    "fig= plt.figure(figsize=(6,3))\n",
    "plt.show()"
   ]
  },
  {
   "cell_type": "markdown",
   "metadata": {},
   "source": [
    "#### So interestingly around 70% of people drive Manual Cars in Germany"
   ]
  },
  {
   "cell_type": "code",
   "execution_count": null,
   "metadata": {},
   "outputs": [],
   "source": [
    "df = cardata[\"fuelType\"]\n",
    "\n",
    "diesel_num = df.str.count(\"diesel\").sum()\n",
    "petrol_num = df.str.count(\"benzin\").sum()\n",
    "\n",
    "\n",
    "counts = [int(diesel_num), int(petrol_num)]\n",
    "my_labels = ['Diesel', 'Petrol']\n",
    "plt.pie(counts,labels=my_labels,autopct='%.0f%%',textprops={'fontsize': 25})\n",
    "plt.title('Car Fuel Types',fontsize=30)\n",
    "plt.axis('equal')\n",
    "fig= plt.figure(figsize=(6,3))\n",
    "plt.show()"
   ]
  },
  {
   "cell_type": "markdown",
   "metadata": {},
   "source": [
    "#### And around 70% of cars are petrol run. This dataset does not include electic vehicles, which have increase in production significantly since this data was recorded in 2016"
   ]
  },
  {
   "cell_type": "code",
   "execution_count": null,
   "metadata": {
    "slideshow": {
     "slide_type": "slide"
    },
    "tags": []
   },
   "outputs": [],
   "source": [
    "cardata[\"yearOfRegistration\"][cardata[\"yearOfRegistration\"] >1990 ][cardata[\"yearOfRegistration\"] < 2020].hist()\n",
    "\n",
    "plt.xticks(fontsize=10, rotation='90')\n",
    "plt.title(\"Car Manufacture Year\", fontsize=20)\n",
    "plt.xlabel('\\n Year of Manufacture', fontsize=15)\n",
    "plt.ylabel('Quantity of Cars', fontsize=15, rotation='vertical', ha='right')\n",
    "\n"
   ]
  },
  {
   "cell_type": "code",
   "execution_count": null,
   "metadata": {},
   "outputs": [],
   "source": [
    "cardata[\"price\"][cardata[\"price\"] <30000 ].hist()\n",
    "\n",
    "plt.xticks(fontsize=10, rotation='90')\n",
    "plt.title(\"Car Prices\", fontsize=20 )\n",
    "plt.xlabel('\\n Price', fontsize=15 )\n",
    "plt.ylabel('Quantity of Cars', fontsize=15, rotation='vertical', ha='right')"
   ]
  },
  {
   "cell_type": "code",
   "execution_count": null,
   "metadata": {
    "slideshow": {
     "slide_type": "fragment"
    }
   },
   "outputs": [],
   "source": [
    "cardata[\"vehicleType\"].value_counts().plot(kind=\"bar\")\n",
    "\n",
    "plt.xticks(fontsize=10, rotation='90')\n",
    "plt.title(\"Car Types\", fontsize=20 )\n",
    "plt.xlabel('\\n Car Types in German', fontsize=15 )\n",
    "plt.ylabel('Quantity of Cars', fontsize=15, rotation='vertical', ha='right')"
   ]
  },
  {
   "cell_type": "code",
   "execution_count": null,
   "metadata": {},
   "outputs": [],
   "source": [
    "e = cardata[\"model\"].value_counts()\n",
    "e = e.nlargest(20)\n",
    "e.plot(kind=\"bar\")\n",
    "\n",
    "plt.xticks(fontsize=10, rotation='90')\n",
    "plt.title(\"Car Model Frequency\", fontsize=20 )\n",
    "plt.xlabel('\\n Models', fontsize=15 )\n",
    "plt.ylabel('Quantity of Cars', fontsize=15, rotation='vertical', ha='right')"
   ]
  },
  {
   "cell_type": "code",
   "execution_count": null,
   "metadata": {},
   "outputs": [],
   "source": [
    "cardata[\"powerPS\"][cardata[\"powerPS\"] <400 ].hist()\n",
    "\n",
    "plt.xticks(fontsize=10, rotation='90')\n",
    "plt.title(\"Car Power\", fontsize=20 )\n",
    "plt.xlabel('\\n Car Horsepower', fontsize=15)\n",
    "plt.ylabel('Quantity of Cars', fontsize=15, rotation='vertical', ha='right')"
   ]
  },
  {
   "cell_type": "code",
   "execution_count": null,
   "metadata": {
    "slideshow": {
     "slide_type": "-"
    }
   },
   "outputs": [],
   "source": [
    "cardata[\"brand\"].value_counts().plot(kind=\"bar\")\n",
    "\n",
    "plt.xticks(fontsize=10, rotation='90')\n",
    "plt.title(\"Car Manufactures\", fontsize=20 )\n",
    "plt.xlabel('\\n Manufacturer', fontsize=15)\n",
    "plt.ylabel('Quantity of Cars', fontsize=15, rotation='vertical', ha='right')"
   ]
  },
  {
   "cell_type": "code",
   "execution_count": null,
   "metadata": {},
   "outputs": [],
   "source": [
    "Typecounts = cardata['vehicleType'].value_counts().rename_axis('vehicleType').reset_index(name='count')\n",
    "data = dict(zip(Typecounts['vehicleType'], Typecounts['count']))\n",
    "fig = plt.figure(FigureClass=Waffle,\n",
    "                 figsize=(18,8),\n",
    "                 rows=15,\n",
    "                 columns=25,\n",
    "                 values=Typecounts['count'],\n",
    "                 title={'label': 'Car Types',\n",
    "                        'loc': 'left',\n",
    "                        'fontdict': {'fontsize': 20}},\n",
    "                 labels=[\"{} ({:,})\".format(k, v) for k, v in data.items()],\n",
    "                 legend={'loc': 'lower left',\n",
    "                         'bbox_to_anchor': (0, -0.4),\n",
    "                         'ncol': 6,\n",
    "                         'framealpha': 0,\n",
    "                         'fontsize': 12})"
   ]
  },
  {
   "cell_type": "markdown",
   "metadata": {},
   "source": [
    "Since Volkswagen is the top selling car, i wanted to inspect the top car models that are sold"
   ]
  },
  {
   "cell_type": "code",
   "execution_count": null,
   "metadata": {},
   "outputs": [],
   "source": [
    "df = cardata[cardata[\"brand\"]=='volkswagen']\n",
    "Typecounts = df['model'].value_counts().rename_axis('model').reset_index(name='count')\n",
    "data = dict(zip(Typecounts['model'], Typecounts['count']))\n",
    "fig = plt.figure(FigureClass=Waffle,\n",
    "                 figsize=(18,8),\n",
    "                 rows=15,\n",
    "                 columns=25,\n",
    "                 values=Typecounts['count'],\n",
    "                 title={'label': 'Top Volkswagen Car Models',\n",
    "                        'loc': 'left',\n",
    "                        'fontdict': {'fontsize': 20}},\n",
    "                 labels=[\"{} ({:,})\".format(k, v) for k, v in data.items()],\n",
    "                 legend={'loc': 'lower left',\n",
    "                         'bbox_to_anchor': (0, -0.4),\n",
    "                         'ncol': 6,\n",
    "                         'framealpha': 0,\n",
    "                         'fontsize': 12})"
   ]
  },
  {
   "cell_type": "markdown",
   "metadata": {},
   "source": [
    "## Car Brand Analysis\n",
    "\n",
    "I found the car brands particularly interesting so in this section i filteres the brand data from the original csv and created a new dataset, and made some interesting graphs and comparisons\n",
    "\n",
    "I am going to make a graph of car sales on mannufactures parent companies. Below is a list of car brands and their corresponding parent companies\n",
    "\n",
    "- toyota : palexus, daihatsu, toyota\n",
    "- general motors : chevrolet, buic, cadillac, holden, hsv\n",
    "- volkswagen : bentley, skoda, audi, lamborghini, bugatti, porshe, volkswagen\n",
    "- fiat chrysler automobiles : jeep, fiat, dodge, abarth, lancia, alpha_romeo, chrysler\n",
    "- psa group : peugeot, citreon, opel, vauxhall\n",
    "- daimler : mercedes_benz, smart, maybach\n",
    "- bmw : bmw, mini, rolls_royce\n",
    "- group renault : nissan, infiniti, mitsubishi, renault\n",
    "- Tata motors : land rover, jaguar\n",
    "- hyundai : hyundai, kia, genesis\n",
    "- geely : volvo, lotus\n",
    "- fuji heavy industries : subaru\n",
    "- independants : everyone else"
   ]
  },
  {
   "cell_type": "code",
   "execution_count": null,
   "metadata": {},
   "outputs": [],
   "source": [
    "#making some ugly functions\n",
    "def brandcounter(braand):\n",
    "    sum = cardata[\"brand\"].str.count(braand).sum()\n",
    "    return sum\n",
    "\n",
    "def parentcounterlists(listofbrands):\n",
    "    brandlist = []\n",
    "    for i in listofbrands:\n",
    "        brandlist.append(brandcounter(i))\n",
    "        sum1 = sum(brandlist)\n",
    "    return sum1\n",
    "\n",
    "def parentcounterlistsoflists(listlistofbrands):\n",
    "    brandlist = []\n",
    "    for i in listlistofbrands:\n",
    "        brandlist.append(parentcounterlists(i))\n",
    "    return brandlist\n",
    "#parent company and car lists\n",
    "parent_companies = [\n",
    "\"Toyota\", \n",
    "\"General Motors\", \n",
    "\"Volkswagen\",\n",
    "\"Fiat\\nChrysler\\nAutomobiles\", \n",
    "\"PSA Group\", \n",
    "\"Daimler\",\n",
    "\"BMW\",\n",
    "\"Group Renault\",\n",
    "\"Tata Motors\",\n",
    "\"Hyundai\",\n",
    "\"Geely\", \n",
    "\"Fuji\\nHeavy\\nIndustries\", \n",
    "\"Independants\" \n",
    "]\n",
    "\n",
    "parent_company_cars = [\n",
    "[\"palexus\", \"daihatsu\", \"toyota\"],\n",
    "[\"chevrolet\", \"buic\", \"cadillac\", \"holden\", \"hsv\"],\n",
    "[\"bentley\", \"skoda\", \"audi\", \"lamborghini\", \"bugatti\", \"porshe\", \"volkswagen\"],\n",
    "[\"jeep\", \"fiat\", \"dodge\", \"abarth\", \"lancia\", \"alpha_romeo\", \"chrysler\"],\n",
    "[\"peugeot\", \"citroen\", \"opel\", \"vauxhall\"],\n",
    "[\"mercedes_benz\", \"smart\", \"maybach\"],\n",
    "[\"bmw\", \"mini\", \"rolls_royce\"],\n",
    "[\"nissan\", \"infiniti\", \"mitsubishi\", \"renault\"],\n",
    "[\"land rover\", \"jaguar\"],\n",
    "[\"hyundai\", \"kia\", \"genesis\"],\n",
    "[\"volvo\", \"lotus\"],\n",
    "[\"subaru\"]\n",
    "]\n",
    "#Making a new clean dataset \n",
    "\n",
    "# This was done by searching brands from parent_company_cars and counting them in the german car data csv\n",
    "\n",
    "parent_count = list(parentcounterlistsoflists(parent_company_cars))\n",
    "\n",
    "independant_count = len(cardata[\"brand\"]) - sum(parent_count)\n",
    "parent_count.append(independant_count)  \n",
    "    \n",
    "#Reorganising Data for another Graph\n",
    "data = cardata[\"brand\"].value_counts()\n",
    "data1 = data.index.tolist()\n",
    "data2 = data.tolist()\n",
    "data3 = []\n",
    "for i in data1:\n",
    "\n",
    "    if i in (item for sublist in parent_company_cars for item in sublist):\n",
    "        f = next(((j, car.index(i))\n",
    "              for j, car in enumerate(parent_company_cars)\n",
    "              if i in car),\n",
    "             None)\n",
    "        f = f[0]\n",
    "        data3.append(parent_companies[f])\n",
    "    else:\n",
    "        data3.append('Independant') \n",
    "\n",
    "brand = pd.DataFrame({'Parent Companies': data3 , 'Quantity of Cars': data2 , 'Car Brand': data1})\n"
   ]
  },
  {
   "cell_type": "markdown",
   "metadata": {},
   "source": [
    "I did this very early on in my coding journey and as you can see, is a very unconventional way of reorganising this data. Below is representation of the new dataframe created 'brand'"
   ]
  },
  {
   "cell_type": "code",
   "execution_count": null,
   "metadata": {},
   "outputs": [],
   "source": [
    "brand.sample(10)"
   ]
  },
  {
   "cell_type": "markdown",
   "metadata": {},
   "source": [
    "## Playing with different plots\n",
    "\n",
    "Below i explore pretty much the same type of data on a couple of different plots including stacked bar charts, bar charts, treemaps (1D & 2D) and a cool little diagram called a 'Waffle Diagram'"
   ]
  },
  {
   "cell_type": "code",
   "execution_count": null,
   "metadata": {},
   "outputs": [],
   "source": [
    "#This is plotting the data onto a bar graph\n",
    "df = pd.DataFrame({'Parent Companies': parent_companies , 'Quantity of Cars': parent_count})\n",
    "df.sort_values('Quantity of Cars',inplace= True, ascending = False)\n",
    "ax = df.plot.bar(x='Parent Companies',  rot=0, width = 0.5)\n",
    "plt.xlabel('\\n Parent Company', fontsize=15)\n",
    "plt.ylabel('Quantity of Cars', fontsize=15, rotation='vertical', ha='right')\n",
    "plt.title(\"Car Family Manufactures\", fontsize=20 )"
   ]
  },
  {
   "cell_type": "markdown",
   "metadata": {},
   "source": [
    "I found the representation of this data in the above table quite simplistic so i explored some different graphs including some cool things called Treemaps :)"
   ]
  },
  {
   "cell_type": "code",
   "execution_count": null,
   "metadata": {},
   "outputs": [],
   "source": [
    "# This is a 1D plot onto a treemap\n",
    "plt.figure(figsize=(20,10))\n",
    "squarify.plot(sizes=parent_count,\n",
    "              color=['#221A7C','#202785','#1D348E','#1B4297', '#184FA0', '#165CA9'  , '#1369B2', '#0979B9',\"#0089c0\", '#0095C2', '#00A2C4', '#00AEC5', \\\n",
    "         '#00BAC7', '#16C0C5','#2BC5C3', '#41CBC0', '#56D0BE', '#6CD6BC', '#77DABB',  '#83DEBA', '#8EE1B8',  '#9AE5B7', \\\n",
    "          '#A5E9B6', '#B0EDB5', '#BCF0B3', '#C7F4B2', '#CCF5B4', '#D1F7B6', '#DCFAB9', '#E6FCBD', '#F0FFC0'],\n",
    "              label=parent_companies,\n",
    "              pad=True)\n",
    "\n",
    "plt.title('Treemap', fontsize=20 )\n",
    "plt.axis('off');"
   ]
  },
  {
   "cell_type": "markdown",
   "metadata": {},
   "source": [
    "This treemap is a really simplistic and effective way of representing my data. Although, i want to find a way to further display the subcategories of brands inside the current rectangles. Below is my very first Waffle Diagram"
   ]
  },
  {
   "cell_type": "code",
   "execution_count": null,
   "metadata": {},
   "outputs": [],
   "source": [
    "# This is a Waffle Diagram displaying the exact same information in the treemap above\n",
    "data = dict(zip(parent_companies, parent_count))\n",
    "fig = plt.figure(FigureClass=Waffle,\n",
    "                 figsize=(18,8),\n",
    "                 rows=15,\n",
    "                 columns=25,\n",
    "                 values=parent_count,\n",
    "                 title={'label': 'Car Manufacturer by Parent Companies',\n",
    "                        'loc': 'left',\n",
    "                        'fontdict': {'fontsize': 20}},\n",
    "                 labels=[\"{} ({:,})\".format(k, v) for k, v in data.items()],\n",
    "                 legend={'loc': 'lower left',\n",
    "                         'bbox_to_anchor': (0, -0.4),\n",
    "                         'ncol': 6,\n",
    "                         'framealpha': 0,\n",
    "                         'fontsize': 12})"
   ]
  },
  {
   "cell_type": "code",
   "execution_count": null,
   "metadata": {},
   "outputs": [],
   "source": [
    "# This is another Waffle Diagram, displaying all the car brands\n",
    "data = dict(zip(data1,data2))\n",
    "fig = plt.figure(FigureClass=Waffle,\n",
    "                 figsize=(18,8),\n",
    "                 rows=15,\n",
    "                 columns=25,\n",
    "                 values=data2,\n",
    "                 title={'label': 'Car Manufacturers',\n",
    "                        'loc': 'left',\n",
    "                        'fontdict': {'fontsize': 20}},\n",
    "                 labels=[\"{} ({:,})\".format(k, v) for k, v in data.items()],\n",
    "                 legend={'loc': 'lower left',\n",
    "                         'bbox_to_anchor': (0, -0.4),\n",
    "                         'ncol': 6,\n",
    "                         'framealpha': 0,\n",
    "                         'fontsize': 12})"
   ]
  },
  {
   "cell_type": "markdown",
   "metadata": {},
   "source": [
    "As you can see, the data is very confusing, especially looking towards the end of the legend as it is very hard to decifer if a certain colour is for example (Is a certain orange plot a bmw, a seat, a hyundai, a porshe or a jaguar?). I researched and found a way to graph 2 dimensions onto the same treemap. The plot is below :)"
   ]
  },
  {
   "cell_type": "code",
   "execution_count": null,
   "metadata": {},
   "outputs": [],
   "source": [
    "fig = px.treemap(brand, \n",
    "                 path=['Parent Companies', 'Car Brand'], \n",
    "                 values='Quantity of Cars' ,\n",
    "                #  color='Quantity of Cars'\n",
    "                )\n",
    "fig.show()"
   ]
  },
  {
   "cell_type": "code",
   "execution_count": null,
   "metadata": {},
   "outputs": [],
   "source": [
    "df1 = pd.pivot_table(brand, values='Quantity of Cars', index='Parent Companies', columns='Car Brand')\n",
    "df1.plot(kind='bar', stacked=True).legend(bbox_to_anchor=(1.2, 1))\n",
    "plt.xlabel('\\n Parent Company', fontsize=15)\n",
    "plt.ylabel('Quantity of Cars', fontsize=15, rotation='vertical', ha='right')\n",
    "plt.title(\"Car Family Manufactures\", fontsize=20 )\n",
    "#rectangle artists\n"
   ]
  },
  {
   "cell_type": "code",
   "execution_count": null,
   "metadata": {},
   "outputs": [],
   "source": [
    "#I tried sorting it, but it took too long\n",
    "# sort = brand.groupby('Parent Companies').sum().sort_values('Quantity of Cars', ascending = False).index\n",
    "# df1 = pd.pivot_table(brand, values='Quantity of Cars', index='Parent Companies', columns='Car Brand').reindex(sort_list) \n",
    "# df1.plot(kind='bar', stacked=True).legend(bbox_to_anchor=(1.2, 1))\n",
    "# plt.xlabel('\\n Parent Company', fontsize=15)\n",
    "# plt.ylabel('Quantity of Cars', fontsize=15, rotation='vertical', ha='right')\n",
    "# plt.title(\"Car Family Manufactures\", fontsize=20 )"
   ]
  },
  {
   "cell_type": "markdown",
   "metadata": {},
   "source": [
    "# Maps\n",
    "\n",
    "I found a map shape file of Germany that included corresponding postal codes that i could link to my car data. I found the shape file here (the site is in German, you might want to translate it):\n",
    "https://www.suche-postleitzahl.org/downloads\n",
    "\n",
    "Probably dont run the following cell as it takes a while, but you will see a massive shape file of germany\n"
   ]
  },
  {
   "cell_type": "code",
   "execution_count": null,
   "metadata": {},
   "outputs": [],
   "source": [
    "germanburbs.geometry.plot()"
   ]
  },
  {
   "cell_type": "markdown",
   "metadata": {},
   "source": [
    "And below is the dataframe that corresponds with the german shape file. plz is the postalcode."
   ]
  },
  {
   "cell_type": "code",
   "execution_count": null,
   "metadata": {},
   "outputs": [],
   "source": [
    "germanburbs.sample(10)"
   ]
  },
  {
   "cell_type": "markdown",
   "metadata": {},
   "source": [
    "## Adding Car data to the Map\n",
    "Trying to add a count of sales and other information in each postcode. I aim to further add other characteristics like comparing the most prominant car brands regionally"
   ]
  },
  {
   "cell_type": "code",
   "execution_count": null,
   "metadata": {
    "tags": []
   },
   "outputs": [],
   "source": [
    "#Really rough distribution of car sales via postal code\n",
    "df = cardata[\"postalCode\"]\n",
    "df.hist()"
   ]
  },
  {
   "cell_type": "markdown",
   "metadata": {},
   "source": [
    "As you see above this data is quite useless as the geographical data is lost in translation when plotting to a bar graph. All you can really see is that there are more cars in suburbs with a postalcode between 40000-50000\n",
    "\n",
    "## Sorting through Car Data for a Map Plot\n",
    "Below is just some ugly functions and lambdas to do some funcky stuff from the cardata.csv and to add it to the dataframe of the German Map datafram (germanburbs).\n",
    "\n",
    "p.s they are very long and repetitive as i got an error called {'DataFrame' objects are mutable, thus they cannot be hashed}, which stopped me from making a function ."
   ]
  },
  {
   "cell_type": "code",
   "execution_count": 3,
   "metadata": {
    "tags": []
   },
   "outputs": [],
   "source": [
    "#This is a function that will run from a lamda that will count the number of cars sold in each postcode\n",
    "cardata[\"postalCode\"] = cardata[\"postalCode\"].astype(str)\n",
    "counts = cardata['postalCode'].value_counts().rename_axis('postalCode').reset_index(name='count')\n",
    "plist = counts['postalCode'].tolist()\n",
    "def pccounter(pcode):\n",
    "    pcode = str(pcode)\n",
    "    if pcode in plist:\n",
    "        num = counts.loc[counts['postalCode'] == pcode, 'count'].iloc[0]\n",
    "        return num\n",
    "    else:\n",
    "        return 0\n",
    "#This is the lambda function that adds the count column\n",
    "germanburbs['count'] = germanburbs.apply(lambda x: pccounter(x['plz']), axis=1)\n",
    "\n",
    "# I had to write all these down manually as i got the error when trying to make a function that alters a dataframe\n",
    "# 'DataFrame' objects are mutable, thus they cannot be hashed\n",
    "\n",
    "#Resorting Data into mean and modes\n",
    "df = cardata\n",
    "df['postalCode'] = df['postalCode'].astype(str)\n",
    "\n",
    "price = df.groupby(\"postalCode\").agg({\"price\":['mean']}).reset_index()\n",
    "price['price'] = price['price'].astype(int)\n",
    "price.columns = price.columns.droplevel(1)\n",
    "\n",
    "gear = df.groupby(\"postalCode\")['gearbox'].agg(pd.Series.mode)\n",
    "\n",
    "brand1 = df.groupby(\"postalCode\")['brand'].agg(pd.Series.mode)\n",
    "\n",
    "fuel = df.groupby(\"postalCode\")['fuelType'].agg(pd.Series.mode)\n",
    "\n",
    "vtype = df.groupby(\"postalCode\")['vehicleType'].agg(pd.Series.mode)\n",
    "\n",
    "power = df.groupby(\"postalCode\").agg({\"powerPS\":['mean']}).reset_index()\n",
    "power['powerPS'] = power['powerPS'].astype(int)\n",
    "power.columns = power.columns.droplevel(1)\n",
    "\n",
    "regoY = df.groupby(\"postalCode\").agg({\"yearOfRegistration\":['mean']}).reset_index()\n",
    "regoY['yearOfRegistration'] = regoY['yearOfRegistration'].astype(int)\n",
    "regoY.columns = regoY.columns.droplevel(1)\n",
    "\n",
    "regoM = df.groupby(\"postalCode\").agg({\"monthOfRegistration\":['mean']}).reset_index()\n",
    "regoM['monthOfRegistration'] = regoM['monthOfRegistration'].astype(int)\n",
    "regoM.columns = regoM.columns.droplevel(1)\n",
    "\n",
    "#This is a function that will run from a lamda that will transfer the data above into the map data\n",
    "\n",
    "counts = cardata['postalCode'].value_counts().rename_axis('postalCode').reset_index(name='count')\n",
    "plist = counts['postalCode'].tolist()\n",
    "def pccounter2(pcode,df,column):\n",
    "    pcode = str(pcode)\n",
    "    if pcode in plist:\n",
    "        e = df.loc[df['postalCode'] == pcode,column].iloc[0]\n",
    "        num = int(e)\n",
    "        return num\n",
    "    else:\n",
    "        return 0\n",
    "def pcmode(pcode,df1):\n",
    "    pcode = str(pcode)\n",
    "    if pcode in plist:\n",
    "        e = df1[pcode]\n",
    "        return e\n",
    "    else:\n",
    "        return 0\n",
    "\n",
    "# These are some lambda functions\n",
    "germanburbs['Gearbox'] = germanburbs.apply(lambda x: pcmode(x['plz'],gear), axis=1)\n",
    "germanburbs['Car Brand'] = germanburbs.apply(lambda x: pcmode(x['plz'],brand1), axis=1)\n",
    "germanburbs['Fuel Type'] = germanburbs.apply(lambda x: pcmode(x['plz'],fuel), axis=1)\n",
    "germanburbs['Vehicle Type'] = germanburbs.apply(lambda x: pcmode(x['plz'],vtype), axis=1)\n",
    "germanburbs['Car Price Av'] = germanburbs.apply(lambda x: pccounter2(x['plz'],price,'price'), axis=1)\n",
    "germanburbs['Car Power Av'] = germanburbs.apply(lambda x: pccounter2(x['plz'],power,'powerPS'), axis=1)\n",
    "germanburbs['Rego Year'] = germanburbs.apply(lambda x: pccounter2(x['plz'],regoY,'yearOfRegistration'), axis=1)\n",
    "germanburbs['Rego Month'] = germanburbs.apply(lambda x: pccounter2(x['plz'],regoM,'monthOfRegistration'), axis=1)"
   ]
  },
  {
   "cell_type": "markdown",
   "metadata": {},
   "source": [
    "### Sorting Done\n",
    "Now From my germanburbs data i am able to tell the avcar price, the most common car type, brand, gearbox etc on any postcode"
   ]
  },
  {
   "cell_type": "code",
   "execution_count": null,
   "metadata": {},
   "outputs": [],
   "source": [
    "germanburbs.sample(10)"
   ]
  },
  {
   "cell_type": "markdown",
   "metadata": {},
   "source": [
    "## Regional Car Sales \n",
    "Below is the plots of regional car sales analysis. There was alot of areas, so i chose to focus around some interesting areas, including capital cities, and the postcode with the most car sales\n",
    "\n",
    "This is an entire map of the shape file of Germany and the sales numbers in each region."
   ]
  },
  {
   "cell_type": "code",
   "execution_count": null,
   "metadata": {},
   "outputs": [],
   "source": [
    "df = germanburbs[germanburbs['count']<800]\n",
    "df.plot(column='count', cmap='Reds', legend=True,legend_kwds={'label': \"Average Car Price ($ Euros)\"})\n",
    "plt.title(\"Regional Car Sales\", fontsize=20 )\n",
    "plt.xlabel('\\n Germany', fontsize=15)"
   ]
  },
  {
   "cell_type": "markdown",
   "metadata": {},
   "source": [
    "I found this very interesting so i decided to plot the region populations ot see if it related to the number of car sales"
   ]
  },
  {
   "cell_type": "markdown",
   "metadata": {},
   "source": [
    "Now i am creating (or copying from Bens Pandas doc) some functions allowing me to identify the centroid of postalcode geometry, and then apply it to create some funky plots"
   ]
  },
  {
   "cell_type": "code",
   "execution_count": null,
   "metadata": {},
   "outputs": [],
   "source": [
    "def add_centroid(row):\n",
    "    return row.geometry.centroid\n",
    "\n",
    "germanburbs[\"centroid\"] = germanburbs.apply(add_centroid, axis=1)"
   ]
  },
  {
   "cell_type": "markdown",
   "metadata": {},
   "source": [
    "I wanted to find and inspect the region with the most sales. I found the postcode using the nlargest function and plotted it later on."
   ]
  },
  {
   "cell_type": "code",
   "execution_count": null,
   "metadata": {
    "tags": []
   },
   "outputs": [],
   "source": [
    "#I found the Purple bit really interesting so i went to inspect it further\n",
    "x = germanburbs[\"count\"].nlargest(1).index[0]\n",
    "a = germanburbs.iloc[x]\n",
    "print(a.centroid)\n",
    "a.centroid\n",
    "print(a)\n"
   ]
  },
  {
   "cell_type": "markdown",
   "metadata": {},
   "source": [
    "## Mitte - Berlin (Most Car Sales)\n",
    "The town with the most cars for sale was a town called Mitte in Berlin, postalcode 10115. Interestingly the most common brand in Mitte was not a petrol manual volkswagen, but a Audi Diesel Automatic limosuine"
   ]
  },
  {
   "cell_type": "code",
   "execution_count": null,
   "metadata": {
    "slideshow": {
     "slide_type": "-"
    }
   },
   "outputs": [],
   "source": [
    "right_here = shapely.geometry.point.Point(13.3846772483033, 52.53213958289162)\n",
    "germanburbs[\"distance_from_berlinmitte\"] = burbs.geometry.distance(right_here)\n",
    "closer_burbs = germanburbs[germanburbs.distance_from_berlinmitte<0.1]\n",
    "closer_burbs.plot(column='count', cmap='cool', legend=True);"
   ]
  },
  {
   "cell_type": "markdown",
   "metadata": {},
   "source": [
    "Below is a plot of regions around Mitte-Berlin which was very interesting"
   ]
  },
  {
   "cell_type": "code",
   "execution_count": null,
   "metadata": {},
   "outputs": [],
   "source": [
    "closer_burbs[germanburbs.distance_from_berlinmitte<0.5]\n",
    "closer_burbs.plot(column='count', cmap='cool', legend=True);"
   ]
  },
  {
   "cell_type": "markdown",
   "metadata": {},
   "source": [
    "As you can see, i think people who live in berlin put the postal code of mitte down when advertising of selling cars."
   ]
  },
  {
   "cell_type": "markdown",
   "metadata": {},
   "source": [
    "## Other Weird Regional Relationships\n",
    "\n",
    "I explored some other charcteristics of regions using nlargest. I only used postcodes selling 20 cars or more for reliability. "
   ]
  },
  {
   "cell_type": "code",
   "execution_count": 4,
   "metadata": {
    "tags": []
   },
   "outputs": [
    {
     "output_type": "execute_result",
     "data": {
      "text/plain": "        plz                        note  \\\n6906  19406             19406 Sternberg   \n4273  24802             24802 Emkendorf   \n3505  88690  88690 Uhldingen-MÃ¼hlhofen   \n\n                                               geometry  count  Gearbox  \\\n6906  POLYGON ((11.76048 53.69499, 11.76080 53.69653...     26  manuell   \n4273  POLYGON ((9.72035 54.25209, 9.75631 54.25443, ...     21  manuell   \n3505  POLYGON ((9.20515 47.74893, 9.20561 47.74986, ...     31  manuell   \n\n       Car Brand Fuel Type         Vehicle Type  Car Price Av  Car Power Av  \\\n6906  volkswagen    benzin                kombi          2010           849   \n4273        ford    benzin  [kleinwagen, kombi]          2867           804   \n3505  volkswagen    benzin           kleinwagen          4495           504   \n\n      Rego Year  Rego Month  \n6906       2001           4  \n4273       2002           4  \n3505       2004           6  ",
      "text/html": "<div>\n<style scoped>\n    .dataframe tbody tr th:only-of-type {\n        vertical-align: middle;\n    }\n\n    .dataframe tbody tr th {\n        vertical-align: top;\n    }\n\n    .dataframe thead th {\n        text-align: right;\n    }\n</style>\n<table border=\"1\" class=\"dataframe\">\n  <thead>\n    <tr style=\"text-align: right;\">\n      <th></th>\n      <th>plz</th>\n      <th>note</th>\n      <th>geometry</th>\n      <th>count</th>\n      <th>Gearbox</th>\n      <th>Car Brand</th>\n      <th>Fuel Type</th>\n      <th>Vehicle Type</th>\n      <th>Car Price Av</th>\n      <th>Car Power Av</th>\n      <th>Rego Year</th>\n      <th>Rego Month</th>\n    </tr>\n  </thead>\n  <tbody>\n    <tr>\n      <th>6906</th>\n      <td>19406</td>\n      <td>19406 Sternberg</td>\n      <td>POLYGON ((11.76048 53.69499, 11.76080 53.69653...</td>\n      <td>26</td>\n      <td>manuell</td>\n      <td>volkswagen</td>\n      <td>benzin</td>\n      <td>kombi</td>\n      <td>2010</td>\n      <td>849</td>\n      <td>2001</td>\n      <td>4</td>\n    </tr>\n    <tr>\n      <th>4273</th>\n      <td>24802</td>\n      <td>24802 Emkendorf</td>\n      <td>POLYGON ((9.72035 54.25209, 9.75631 54.25443, ...</td>\n      <td>21</td>\n      <td>manuell</td>\n      <td>ford</td>\n      <td>benzin</td>\n      <td>[kleinwagen, kombi]</td>\n      <td>2867</td>\n      <td>804</td>\n      <td>2002</td>\n      <td>4</td>\n    </tr>\n    <tr>\n      <th>3505</th>\n      <td>88690</td>\n      <td>88690 Uhldingen-MÃ¼hlhofen</td>\n      <td>POLYGON ((9.20515 47.74893, 9.20561 47.74986, ...</td>\n      <td>31</td>\n      <td>manuell</td>\n      <td>volkswagen</td>\n      <td>benzin</td>\n      <td>kleinwagen</td>\n      <td>4495</td>\n      <td>504</td>\n      <td>2004</td>\n      <td>6</td>\n    </tr>\n  </tbody>\n</table>\n</div>"
     },
     "metadata": {},
     "execution_count": 4
    }
   ],
   "source": [
    "#Finding the region with the most powerful cars\n",
    "x = germanburbs[germanburbs[\"count\"] > 20].nlargest(3,'Car Power Av')\n",
    "x.head()\n"
   ]
  },
  {
   "cell_type": "code",
   "execution_count": 7,
   "metadata": {
    "tags": []
   },
   "outputs": [
    {
     "output_type": "execute_result",
     "data": {
      "text/plain": "        plz                note  \\\n361   40210   40210 DÃ¼sseldorf   \n1116  44267      44267 Dortmund   \n8070  17087  17087 Altentreptow   \n\n                                               geometry  count  Gearbox  \\\n361   POLYGON ((6.78225 51.21840, 6.78226 51.21896, ...    168  manuell   \n1116  POLYGON ((7.49587 51.46124, 7.49938 51.46151, ...    199  manuell   \n8070  POLYGON ((13.16885 53.67092, 13.17090 53.67501...     33  manuell   \n\n       Car Brand Fuel Type Vehicle Type  Car Price Av  Car Power Av  \\\n361   volkswagen    diesel    limousine          3656            27   \n1116  volkswagen    diesel    limousine          4053            29   \n8070  volkswagen    benzin   kleinwagen          2510            54   \n\n      Rego Year  Rego Month  \n361        2004           7  \n1116       2004           7  \n8070       2003           5  ",
      "text/html": "<div>\n<style scoped>\n    .dataframe tbody tr th:only-of-type {\n        vertical-align: middle;\n    }\n\n    .dataframe tbody tr th {\n        vertical-align: top;\n    }\n\n    .dataframe thead th {\n        text-align: right;\n    }\n</style>\n<table border=\"1\" class=\"dataframe\">\n  <thead>\n    <tr style=\"text-align: right;\">\n      <th></th>\n      <th>plz</th>\n      <th>note</th>\n      <th>geometry</th>\n      <th>count</th>\n      <th>Gearbox</th>\n      <th>Car Brand</th>\n      <th>Fuel Type</th>\n      <th>Vehicle Type</th>\n      <th>Car Price Av</th>\n      <th>Car Power Av</th>\n      <th>Rego Year</th>\n      <th>Rego Month</th>\n    </tr>\n  </thead>\n  <tbody>\n    <tr>\n      <th>361</th>\n      <td>40210</td>\n      <td>40210 DÃ¼sseldorf</td>\n      <td>POLYGON ((6.78225 51.21840, 6.78226 51.21896, ...</td>\n      <td>168</td>\n      <td>manuell</td>\n      <td>volkswagen</td>\n      <td>diesel</td>\n      <td>limousine</td>\n      <td>3656</td>\n      <td>27</td>\n      <td>2004</td>\n      <td>7</td>\n    </tr>\n    <tr>\n      <th>1116</th>\n      <td>44267</td>\n      <td>44267 Dortmund</td>\n      <td>POLYGON ((7.49587 51.46124, 7.49938 51.46151, ...</td>\n      <td>199</td>\n      <td>manuell</td>\n      <td>volkswagen</td>\n      <td>diesel</td>\n      <td>limousine</td>\n      <td>4053</td>\n      <td>29</td>\n      <td>2004</td>\n      <td>7</td>\n    </tr>\n    <tr>\n      <th>8070</th>\n      <td>17087</td>\n      <td>17087 Altentreptow</td>\n      <td>POLYGON ((13.16885 53.67092, 13.17090 53.67501...</td>\n      <td>33</td>\n      <td>manuell</td>\n      <td>volkswagen</td>\n      <td>benzin</td>\n      <td>kleinwagen</td>\n      <td>2510</td>\n      <td>54</td>\n      <td>2003</td>\n      <td>5</td>\n    </tr>\n  </tbody>\n</table>\n</div>"
     },
     "metadata": {},
     "execution_count": 7
    }
   ],
   "source": [
    "#Finding the region with the least powerful cars\n",
    "x = germanburbs[germanburbs[\"count\"] > 20].nsmallest(3,'Car Power Av')\n",
    "x.head()"
   ]
  },
  {
   "cell_type": "code",
   "execution_count": 6,
   "metadata": {
    "tags": []
   },
   "outputs": [
    {
     "output_type": "execute_result",
     "data": {
      "text/plain": "        plz              note  \\\n5868  86916   86916 Kaufering   \n6683  23992  23992 Neukloster   \n2373  68782      68782 BrÃ¼hl   \n\n                                               geometry  count  Gearbox  \\\n5868  POLYGON ((10.84261 48.08014, 10.84310 48.08033...     24  manuell   \n6683  POLYGON ((11.55124 53.87451, 11.55549 53.88186...     29  manuell   \n2373  POLYGON ((8.46337 49.38042, 8.46370 49.38164, ...     36  manuell   \n\n          Car Brand Fuel Type        Vehicle Type  Car Price Av  Car Power Av  \\\n5868     volkswagen    benzin          kleinwagen       4175335           137   \n6683     volkswagen    benzin           limousine       3450389           163   \n2373  mercedes_benz    benzin  [coupe, limousine]       2785388           137   \n\n      Rego Year  Rego Month  \n5868       2005           4  \n6683       2037           4  \n2373       2001           5  ",
      "text/html": "<div>\n<style scoped>\n    .dataframe tbody tr th:only-of-type {\n        vertical-align: middle;\n    }\n\n    .dataframe tbody tr th {\n        vertical-align: top;\n    }\n\n    .dataframe thead th {\n        text-align: right;\n    }\n</style>\n<table border=\"1\" class=\"dataframe\">\n  <thead>\n    <tr style=\"text-align: right;\">\n      <th></th>\n      <th>plz</th>\n      <th>note</th>\n      <th>geometry</th>\n      <th>count</th>\n      <th>Gearbox</th>\n      <th>Car Brand</th>\n      <th>Fuel Type</th>\n      <th>Vehicle Type</th>\n      <th>Car Price Av</th>\n      <th>Car Power Av</th>\n      <th>Rego Year</th>\n      <th>Rego Month</th>\n    </tr>\n  </thead>\n  <tbody>\n    <tr>\n      <th>5868</th>\n      <td>86916</td>\n      <td>86916 Kaufering</td>\n      <td>POLYGON ((10.84261 48.08014, 10.84310 48.08033...</td>\n      <td>24</td>\n      <td>manuell</td>\n      <td>volkswagen</td>\n      <td>benzin</td>\n      <td>kleinwagen</td>\n      <td>4175335</td>\n      <td>137</td>\n      <td>2005</td>\n      <td>4</td>\n    </tr>\n    <tr>\n      <th>6683</th>\n      <td>23992</td>\n      <td>23992 Neukloster</td>\n      <td>POLYGON ((11.55124 53.87451, 11.55549 53.88186...</td>\n      <td>29</td>\n      <td>manuell</td>\n      <td>volkswagen</td>\n      <td>benzin</td>\n      <td>limousine</td>\n      <td>3450389</td>\n      <td>163</td>\n      <td>2037</td>\n      <td>4</td>\n    </tr>\n    <tr>\n      <th>2373</th>\n      <td>68782</td>\n      <td>68782 BrÃ¼hl</td>\n      <td>POLYGON ((8.46337 49.38042, 8.46370 49.38164, ...</td>\n      <td>36</td>\n      <td>manuell</td>\n      <td>mercedes_benz</td>\n      <td>benzin</td>\n      <td>[coupe, limousine]</td>\n      <td>2785388</td>\n      <td>137</td>\n      <td>2001</td>\n      <td>5</td>\n    </tr>\n  </tbody>\n</table>\n</div>"
     },
     "metadata": {},
     "execution_count": 6
    }
   ],
   "source": [
    "#Finding the region with the most expensive cars\n",
    "x = germanburbs[germanburbs[\"count\"] > 20].nlargest(3,'Car Price Av')\n",
    "x.head()"
   ]
  },
  {
   "cell_type": "code",
   "execution_count": 5,
   "metadata": {
    "tags": []
   },
   "outputs": [
    {
     "output_type": "execute_result",
     "data": {
      "text/plain": "        plz             note  \\\n6328  39624      39624 Kalbe   \n3254  25779  25779 Hennstedt   \n8445  17389     17389 Anklam   \n\n                                               geometry  count  Gearbox  \\\n6328  POLYGON ((11.22233 52.67668, 11.22240 52.67991...     27  manuell   \n3254  POLYGON ((9.06585 54.31891, 9.06785 54.31976, ...     28  manuell   \n8445  POLYGON ((13.62282 53.78606, 13.62377 53.78772...     37  manuell   \n\n       Car Brand Fuel Type Vehicle Type  Car Price Av  Car Power Av  \\\n6328  volkswagen    benzin    limousine          1416            83   \n3254  volkswagen    benzin   kleinwagen          1556            74   \n8445     renault    benzin        kombi          1560            84   \n\n      Rego Year  Rego Month  \n6328       1997           5  \n3254       1998           4  \n8445       1999           4  ",
      "text/html": "<div>\n<style scoped>\n    .dataframe tbody tr th:only-of-type {\n        vertical-align: middle;\n    }\n\n    .dataframe tbody tr th {\n        vertical-align: top;\n    }\n\n    .dataframe thead th {\n        text-align: right;\n    }\n</style>\n<table border=\"1\" class=\"dataframe\">\n  <thead>\n    <tr style=\"text-align: right;\">\n      <th></th>\n      <th>plz</th>\n      <th>note</th>\n      <th>geometry</th>\n      <th>count</th>\n      <th>Gearbox</th>\n      <th>Car Brand</th>\n      <th>Fuel Type</th>\n      <th>Vehicle Type</th>\n      <th>Car Price Av</th>\n      <th>Car Power Av</th>\n      <th>Rego Year</th>\n      <th>Rego Month</th>\n    </tr>\n  </thead>\n  <tbody>\n    <tr>\n      <th>6328</th>\n      <td>39624</td>\n      <td>39624 Kalbe</td>\n      <td>POLYGON ((11.22233 52.67668, 11.22240 52.67991...</td>\n      <td>27</td>\n      <td>manuell</td>\n      <td>volkswagen</td>\n      <td>benzin</td>\n      <td>limousine</td>\n      <td>1416</td>\n      <td>83</td>\n      <td>1997</td>\n      <td>5</td>\n    </tr>\n    <tr>\n      <th>3254</th>\n      <td>25779</td>\n      <td>25779 Hennstedt</td>\n      <td>POLYGON ((9.06585 54.31891, 9.06785 54.31976, ...</td>\n      <td>28</td>\n      <td>manuell</td>\n      <td>volkswagen</td>\n      <td>benzin</td>\n      <td>kleinwagen</td>\n      <td>1556</td>\n      <td>74</td>\n      <td>1998</td>\n      <td>4</td>\n    </tr>\n    <tr>\n      <th>8445</th>\n      <td>17389</td>\n      <td>17389 Anklam</td>\n      <td>POLYGON ((13.62282 53.78606, 13.62377 53.78772...</td>\n      <td>37</td>\n      <td>manuell</td>\n      <td>renault</td>\n      <td>benzin</td>\n      <td>kombi</td>\n      <td>1560</td>\n      <td>84</td>\n      <td>1999</td>\n      <td>4</td>\n    </tr>\n  </tbody>\n</table>\n</div>"
     },
     "metadata": {},
     "execution_count": 5
    }
   ],
   "source": [
    "#Finding the regions with the cheapest cars\n",
    "x = germanburbs[germanburbs[\"count\"] > 20].nsmallest(3,'Car Price Av')\n",
    "x.head()"
   ]
  },
  {
   "cell_type": "markdown",
   "metadata": {},
   "source": [
    "# Top City Map plotting\n",
    "\n",
    "I plotted column relationships on the map of germany and found values for the capital cities of germany"
   ]
  },
  {
   "cell_type": "code",
   "execution_count": null,
   "metadata": {},
   "outputs": [],
   "source": [
    "top_cities = {\n",
    "    'Berlin': (13.404954, 52.520008), \n",
    "    'Cologne': (6.953101, 50.935173),\n",
    "    'Düsseldorf': (6.782048, 51.227144),\n",
    "    'Frankfurt am Main': (8.682127, 50.110924),\n",
    "    'Hamburg': (9.993682, 53.551086),\n",
    "    'Leipzig': (12.387772, 51.343479),\n",
    "    'Munich': (11.576124, 48.137154),\n",
    "    'Dortmund': (7.468554, 51.513400),\n",
    "    'Stuttgart': (9.181332, 48.777128),\n",
    "    'Nuremberg': (11.077438, 49.449820),\n",
    "    'Hannover': (9.73322, 52.37052)\n",
    "}"
   ]
  },
  {
   "cell_type": "code",
   "execution_count": null,
   "metadata": {},
   "outputs": [],
   "source": [
    "# This is some cool stuff that makes some pretty plots of the german capitals\n",
    "\n",
    "plt.rcParams['figure.figsize'] = [16, 11]\n",
    "\n",
    "# Get lat and lng of Germany's main cities. \n",
    "\n",
    "\n",
    "fig, ax = plt.subplots()\n",
    "\n",
    "germanburbs.plot(ax=ax, color='green', alpha=0.8)\n",
    "\n",
    "# Plot cities. \n",
    "for c in top_cities.keys():\n",
    "    # Plot city name.\n",
    "    ax.text(\n",
    "        x=top_cities[c][0], \n",
    "        # Add small shift to avoid overlap with point.\n",
    "        y=top_cities[c][1] + 0.08, \n",
    "        s=c, \n",
    "        fontsize=12,\n",
    "        ha='center', \n",
    "    )\n",
    "    # Plot city location centroid.\n",
    "    ax.plot(\n",
    "        top_cities[c][0], \n",
    "        top_cities[c][1], \n",
    "        marker='o',\n",
    "        c='black', \n",
    "        alpha=0.5\n",
    "    )\n",
    "\n",
    "ax.set(\n",
    "    title='Germany', \n",
    "    aspect=1.3, \n",
    "    facecolor='lightblue'\n",
    ")"
   ]
  },
  {
   "cell_type": "code",
   "execution_count": null,
   "metadata": {},
   "outputs": [],
   "source": [
    "Cities Populations = {\n",
    "    'Berlin': 3520031, \n",
    "    'Cologne': 1060582,\n",
    "    'Düsseldorf': 612178,\n",
    "    'Frankfurt am Main': 732688,\n",
    "    'Hamburg': 1787408,\n",
    "    'Leipzig': 560472,\n",
    "    'Munich': 1450381,\n",
    "    'Dortmund': 586181,\n",
    "    'Stuttgart': 623738,\n",
    "    'Nuremberg': 509975,\n",
    "    'Hannover': 532163\n",
    "}"
   ]
  },
  {
   "cell_type": "code",
   "execution_count": null,
   "metadata": {},
   "outputs": [],
   "source": [
    "# Importing File\n",
    "plz_einwohner_df = pd.read_csv(\n",
    "    '../Data/plz_einwohner.csv', \n",
    "    sep=',', \n",
    "    dtype={'plz': str, 'einwohner': int}\n",
    ")\n",
    "# Merge data.\n",
    "germany_df = pd.merge(\n",
    "    left=germany_df, \n",
    "    right=plz_einwohner_df, \n",
    "    on='plz',\n",
    "    how='left'\n",
    ")\n",
    "fig, ax = plt.subplots()\n",
    "\n",
    "germany_df.plot(\n",
    "    ax=ax, \n",
    "    column='einwohner', \n",
    "    categorical=False, \n",
    "    legend=True, \n",
    "    cmap='autumn_r',\n",
    "    alpha=0.8\n",
    ")\n",
    "\n",
    "for c in top_cities.keys():\n",
    "\n",
    "    ax.text(\n",
    "        x=top_cities[c][0], \n",
    "        y=top_cities[c][1] + 0.08, \n",
    "        s=c, \n",
    "        fontsize=12,\n",
    "        ha='center', \n",
    "    )\n",
    "\n",
    "    ax.plot(\n",
    "        top_cities[c][0], \n",
    "        top_cities[c][1], \n",
    "        marker='o',\n",
    "        c='black', \n",
    "        alpha=0.5\n",
    "    )\n",
    "    \n",
    "ax.set(\n",
    "    title='Germany: Population per Postal Code', \n",
    "    aspect=1.3, \n",
    "    facecolor='lightblue'\n",
    ");\n",
    "top_cities = {\n",
    "    'Berlin': (13.404954, 52.520008), \n",
    "    'Cologne': (6.953101, 50.935173),\n",
    "    'Düsseldorf': (6.782048, 51.227144),\n",
    "    'Frankfurt am Main': (8.682127, 50.110924),\n",
    "    'Hamburg': (9.993682, 53.551086),\n",
    "    'Leipzig': (12.387772, 51.343479),\n",
    "    'Munich': (11.576124, 48.137154),\n",
    "    'Dortmund': (7.468554, 51.513400),\n",
    "    'Stuttgart': (9.181332, 48.777128),\n",
    "    'Nuremberg': (11.077438, 49.449820),\n",
    "    'Hannover': (9.73322, 52.37052)\n",
    "}\n",
    "top_cities_pc= {\n",
    "    'Berlin': '10115', \n",
    "    'Cologne': '50667',\n",
    "    'Düsseldorf': '40210',\n",
    "    'Frankfurt am Main': '60313',\n",
    "    'Hamburg': '20095',\n",
    "    'Leipzig': '04103',\n",
    "    'Munich': '80331',\n",
    "    'Dortmund': '44135',\n",
    "    'Stuttgart': '70173',\n",
    "    'Nuremberg': '90402',\n",
    "    'Hannover': '30159'\n",
    "}\n",
    "\n",
    "#Function for adding column data for the top cities\n",
    "def cityad(column1):\n",
    "    table=[]\n",
    "    pcodes = list(top_cities_pc.values())\n",
    "    cities = list(top_cities_pc.keys())\n",
    "    updatedcities = top_cities.copy()\n",
    "    for i in pcodes:\n",
    "        df = germanburbs[germanburbs['plz'] == i]\n",
    "        newV = df[column1].iloc[0]\n",
    "        table.append(newV)\n",
    "    count=-1\n",
    "    for i in cities:\n",
    "        count = count+1\n",
    "        value = table[count]\n",
    "        new_key = str(i)+'\\n'+str(value)\n",
    "        updatedcities[new_key] = updatedcities.pop(str(i))\n",
    "    return updatedcities\n"
   ]
  },
  {
   "cell_type": "code",
   "execution_count": null,
   "metadata": {},
   "outputs": [],
   "source": [
    "df2 = germanburbs[germanburbs['Car Price Av'] <15000]\n",
    "fig, ax = plt.subplots()\n",
    "df2.plot(ax=ax, column= 'Car Price Av', legend=True, cmap='viridis',legend_kwds={'label': \"Average Car Price ($ Euros)\"})\n",
    "plt.title(\"Average Regional Car Prices\", fontsize=20 )\n",
    "plt.xlabel('\\n Germany', fontsize=15)\n",
    "\n",
    "updatedcities = cityad('Car Price Av')\n",
    "# Plot cities. \n",
    "for c in updatedcities.keys():\n",
    "    # Plot city name.\n",
    "    ax.text(\n",
    "        x=updatedcities[c][0], \n",
    "        # Add small shift to avoid overlap with point.\n",
    "        y=updatedcities[c][1] + 0.08, \n",
    "        s=c, \n",
    "        fontsize=8,\n",
    "        ha='center', \n",
    "        c='black',\n",
    "        weight='bold'\n",
    "    )\n",
    "    # Plot city location centroid.\n",
    "    ax.plot(\n",
    "        updatedcities[c][0], \n",
    "        updatedcities[c][1], \n",
    "        marker='o',\n",
    "        c='black', \n",
    "        alpha=0.5\n",
    "    )\n"
   ]
  },
  {
   "cell_type": "code",
   "execution_count": null,
   "metadata": {},
   "outputs": [],
   "source": [
    "# Import Regional Map\n",
    "plz_shape_df = gp.read_file('plz-gebiete.shp', dtype={'plz': str})\n",
    "plz_region_df = pd.read_csv(\n",
    "    'zuordnung_plz_ort.csv', \n",
    "    sep=',', \n",
    "    dtype={'plz': str}\n",
    ")\n",
    "\n",
    "plz_region_df.drop('osm_id', axis=1, inplace=True)\n",
    "\n",
    "plz_region_df.head()\n",
    "# Merge data.\n",
    "germany_df = pd.merge(\n",
    "    left=plz_shape_df, \n",
    "    right=plz_region_df, \n",
    "    on='plz',\n",
    "    how='inner'\n",
    ")\n",
    "\n",
    "germany_df.drop(['note'], axis=1, inplace=True)\n",
    "\n",
    "germany_df.head()\n",
    "\n",
    "# Generate The regional Map\n",
    "fig, ax = plt.subplots()\n",
    "\n",
    "germany_df.plot(\n",
    "    ax=ax, \n",
    "    column='bundesland', \n",
    "    categorical=True, \n",
    "    legend=True, \n",
    "    legend_kwds={'title':'Bundesland', 'bbox_to_anchor': (1.35, 0.8)},\n",
    "    cmap='tab20',\n",
    "    alpha=0.9\n",
    ")\n",
    "\n",
    "for c in top_cities.keys():\n",
    "\n",
    "    ax.text(\n",
    "        x=top_cities[c][0], \n",
    "        y=top_cities[c][1] + 0.08, \n",
    "        s=c, \n",
    "        fontsize=12,\n",
    "        ha='center', \n",
    "    )\n",
    "\n",
    "    ax.plot(\n",
    "        top_cities[c][0], \n",
    "        top_cities[c][1], \n",
    "        marker='o',\n",
    "        c='black', \n",
    "        alpha=0.5\n",
    "    )\n",
    "\n",
    "ax.set(\n",
    "    title='Germany - Bundesländer', \n",
    "    aspect=1.3, \n",
    "    facecolor='white'\n",
    ");"
   ]
  },
  {
   "cell_type": "markdown",
   "metadata": {},
   "source": [
    "Graphs to make\n",
    "- Map of capital cities\n",
    "    - Data(Price,car etc)\n",
    "- Big Map Gear type + Fuel\n",
    "- Population Graph\n",
    "    - Population vs Car Sales"
   ]
  },
  {
   "cell_type": "markdown",
   "metadata": {
    "slideshow": {
     "slide_type": "-"
    }
   },
   "source": [
    "## Final Thoughts\n",
    "- 1 - Volkswagan sells alot of cars, in particular the Volkswagan golf\n",
    "- 2 - Volkswagan also owns alot of car manufacturer companies\n",
    "- 3 - If you live in Germany, there is a high chance you own a 2004 Volkswagen Golf which is worth around $4000 euros, thats around $6000 aud\n",
    "- 4 - If you live in Sternberg, its most likely you drive very quickly (because your car has alot of power), people from DÃsseldorf are slow\n",
    "- 5 - If you want a cheap car, buy one from Kalbe\n",
    "- 6 - Cars are pretty cheap in Germany"
   ]
  }
 ],
 "metadata": {
  "kernelspec": {
   "display_name": "Python 3",
   "language": "python",
   "name": "python3"
  },
  "language_info": {
   "codemirror_mode": {
    "name": "ipython",
    "version": 3
   },
   "file_extension": ".py",
   "mimetype": "text/x-python",
   "name": "python",
   "nbconvert_exporter": "python",
   "pygments_lexer": "ipython3",
   "version": "3.8.3-final"
  }
 },
 "nbformat": 4,
 "nbformat_minor": 1
}